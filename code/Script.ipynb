{
 "cells": [
  {
   "cell_type": "markdown",
   "metadata": {},
   "source": [
    "# TEAM 7"
   ]
  },
  {
   "cell_type": "code",
   "execution_count": 1,
   "metadata": {},
   "outputs": [
    {
     "name": "stdout",
     "output_type": "stream",
     "text": [
      "Good To Go, Your python version is compatible with the code written in this notebook.\n"
     ]
    }
   ],
   "source": [
    "# First of all check the update the user about the python\n",
    "import warnings\n",
    "from platform import python_version\n",
    "\n",
    "# Custom function for showing only the relevant text message to the user truncating file path\n",
    "def custom_formatwarning(msg, *args, **kwargs):\n",
    "    # ignore everything except the message\n",
    "    return str(msg) + '\\n'\n",
    "warnings.formatwarning = custom_formatwarning\n",
    "\n",
    "if python_version().startswith(\"3.7\"):\n",
    "    print(\"Good To Go, Your python version is compatible with the code written in this notebook.\")\n",
    "else:\n",
    "    warnings.warn(\"Warning! You do not have the required python format to run this script. Some features might not function as intended. Depending on your version, you might have to upgrade or downgrade to python 3.7.\")"
   ]
  },
  {
   "cell_type": "code",
   "execution_count": 2,
   "metadata": {},
   "outputs": [],
   "source": [
    "# Downloading necessary modules\n",
    "import sys\n",
    "# !{sys.executable} -m pip install requests\n",
    "# !{sys.executable} -m pip install matplotlib\n",
    "# !{sys.executable} -m pip install sklearn\n",
    "# !{sys.executable} -m pip install missingpy\n",
    "# !{sys.executable} -m pip install imblearn\n",
    "# !{sys.executable} -m pip install Boruta\n",
    "\n",
    "# Importing \"pandas\" which is used to handle data preprocessing and analysis tasks\n",
    "import pandas as pd\n",
    "\n",
    "# To fetch files from the internet, we import \"requests\" library\n",
    "import requests\n",
    "\n",
    "# For numerical computation, we import numpy\n",
    "import numpy as np\n",
    "\n",
    "# Importing matplotlib for data visualisation and graphing\n",
    "import matplotlib.pyplot as plt\n",
    "\n",
    "# Import MinMax scaler to scale the variables for consistency\n",
    "from sklearn.preprocessing import MinMaxScaler\n",
    "\n",
    "# defining root url from where data is stored for this assignment\n",
    "url = \"https://archive.ics.uci.edu/ml/machine-learning-databases/secom/\"\n",
    "\n",
    "\n",
    "# <----------------------------Data preprocessing------------------------------->\n",
    "# For splitting dataset into train-test and grid search\n",
    "from sklearn.model_selection import train_test_split, GridSearchCV\n",
    "\n",
    "# For KNN imputation\n",
    "from missingpy import KNNImputer\n",
    "\n",
    "# For normalizing the dataset\n",
    "from sklearn.preprocessing import MinMaxScaler\n",
    "\n",
    "# features selection\n",
    "# Boruta\n",
    "from boruta import boruta_py\n",
    "\n",
    "# For Balancing the dataset\n",
    "from imblearn.over_sampling import SMOTE, ADASYN\n",
    "\n",
    "\n",
    "# <----------------------------Models used for training the dataset------------------------------->\n",
    "# Ensemble methods for training\n",
    "from sklearn.ensemble import RandomForestClassifier\n",
    "\n",
    "\n",
    "# Support Vector Machine Classifier\n",
    "from sklearn.svm import SVC\n",
    "\n",
    "\n",
    "# <----------------------------Models Evaluation Strategies------------------------------->\n",
    "\n",
    "from sklearn.metrics import average_precision_score, recall_score, precision_score, f1_score\n",
    "from sklearn.metrics import roc_curve, roc_auc_score, confusion_matrix, precision_recall_curve\n",
    "\n",
    "\n",
    "# <--------------------------------Helper Libraries------------------------------------->\n",
    "\n",
    "# For correlation between continuous and ordinal variable, we use scipy\n",
    "from scipy import stats\n",
    "\n",
    "# Plotting libraries used\n",
    "import seaborn as sns\n"
   ]
  },
  {
   "cell_type": "code",
   "execution_count": 3,
   "metadata": {},
   "outputs": [],
   "source": [
    "# fetching \"secom_labels.data\" file from the url defined above and formatting it\n",
    "label_with_timestamp = pd.read_csv(\"{}secom_labels.data\".format(url), sep='\\s+',header=None)"
   ]
  },
  {
   "cell_type": "code",
   "execution_count": 4,
   "metadata": {},
   "outputs": [],
   "source": [
    "# fetching \"secom.data\" file from the url defined above and formatting it\n",
    "features = pd.read_csv(\"{}secom.data\".format(url), sep='\\s+',header=None)"
   ]
  },
  {
   "cell_type": "code",
   "execution_count": 5,
   "metadata": {
    "scrolled": true
   },
   "outputs": [
    {
     "data": {
      "text/html": [
       "<div>\n",
       "<style scoped>\n",
       "    .dataframe tbody tr th:only-of-type {\n",
       "        vertical-align: middle;\n",
       "    }\n",
       "\n",
       "    .dataframe tbody tr th {\n",
       "        vertical-align: top;\n",
       "    }\n",
       "\n",
       "    .dataframe thead th {\n",
       "        text-align: right;\n",
       "    }\n",
       "</style>\n",
       "<table border=\"1\" class=\"dataframe\">\n",
       "  <thead>\n",
       "    <tr style=\"text-align: right;\">\n",
       "      <th></th>\n",
       "      <th>0</th>\n",
       "      <th>1</th>\n",
       "    </tr>\n",
       "  </thead>\n",
       "  <tbody>\n",
       "    <tr>\n",
       "      <th>0</th>\n",
       "      <td>-1</td>\n",
       "      <td>19/07/2008 11:55:00</td>\n",
       "    </tr>\n",
       "    <tr>\n",
       "      <th>1</th>\n",
       "      <td>-1</td>\n",
       "      <td>19/07/2008 12:32:00</td>\n",
       "    </tr>\n",
       "    <tr>\n",
       "      <th>2</th>\n",
       "      <td>1</td>\n",
       "      <td>19/07/2008 13:17:00</td>\n",
       "    </tr>\n",
       "    <tr>\n",
       "      <th>3</th>\n",
       "      <td>-1</td>\n",
       "      <td>19/07/2008 14:43:00</td>\n",
       "    </tr>\n",
       "    <tr>\n",
       "      <th>4</th>\n",
       "      <td>-1</td>\n",
       "      <td>19/07/2008 15:22:00</td>\n",
       "    </tr>\n",
       "  </tbody>\n",
       "</table>\n",
       "</div>"
      ],
      "text/plain": [
       "   0                    1\n",
       "0 -1  19/07/2008 11:55:00\n",
       "1 -1  19/07/2008 12:32:00\n",
       "2  1  19/07/2008 13:17:00\n",
       "3 -1  19/07/2008 14:43:00\n",
       "4 -1  19/07/2008 15:22:00"
      ]
     },
     "execution_count": 5,
     "metadata": {},
     "output_type": "execute_result"
    }
   ],
   "source": [
    "# have a look at the columns of the labels file\n",
    "label_with_timestamp.head()"
   ]
  },
  {
   "cell_type": "code",
   "execution_count": 6,
   "metadata": {},
   "outputs": [],
   "source": [
    "# renaming columns to label and timestamp respectively\n",
    "label_with_timestamp.rename(columns={0: \"label\", 1: \"timestamp\"}, inplace=True)\n",
    "# label_with_timestamp.head()"
   ]
  },
  {
   "cell_type": "code",
   "execution_count": 7,
   "metadata": {},
   "outputs": [
    {
     "data": {
      "text/html": [
       "<div>\n",
       "<style scoped>\n",
       "    .dataframe tbody tr th:only-of-type {\n",
       "        vertical-align: middle;\n",
       "    }\n",
       "\n",
       "    .dataframe tbody tr th {\n",
       "        vertical-align: top;\n",
       "    }\n",
       "\n",
       "    .dataframe thead th {\n",
       "        text-align: right;\n",
       "    }\n",
       "</style>\n",
       "<table border=\"1\" class=\"dataframe\">\n",
       "  <thead>\n",
       "    <tr style=\"text-align: right;\">\n",
       "      <th></th>\n",
       "      <th>0</th>\n",
       "      <th>1</th>\n",
       "      <th>2</th>\n",
       "      <th>3</th>\n",
       "      <th>4</th>\n",
       "      <th>5</th>\n",
       "      <th>6</th>\n",
       "      <th>7</th>\n",
       "      <th>8</th>\n",
       "      <th>9</th>\n",
       "      <th>...</th>\n",
       "      <th>580</th>\n",
       "      <th>581</th>\n",
       "      <th>582</th>\n",
       "      <th>583</th>\n",
       "      <th>584</th>\n",
       "      <th>585</th>\n",
       "      <th>586</th>\n",
       "      <th>587</th>\n",
       "      <th>588</th>\n",
       "      <th>589</th>\n",
       "    </tr>\n",
       "  </thead>\n",
       "  <tbody>\n",
       "    <tr>\n",
       "      <th>0</th>\n",
       "      <td>3030.93</td>\n",
       "      <td>2564.00</td>\n",
       "      <td>2187.7333</td>\n",
       "      <td>1411.1265</td>\n",
       "      <td>1.3602</td>\n",
       "      <td>100.0</td>\n",
       "      <td>97.6133</td>\n",
       "      <td>0.1242</td>\n",
       "      <td>1.5005</td>\n",
       "      <td>0.0162</td>\n",
       "      <td>...</td>\n",
       "      <td>NaN</td>\n",
       "      <td>NaN</td>\n",
       "      <td>0.5005</td>\n",
       "      <td>0.0118</td>\n",
       "      <td>0.0035</td>\n",
       "      <td>2.3630</td>\n",
       "      <td>NaN</td>\n",
       "      <td>NaN</td>\n",
       "      <td>NaN</td>\n",
       "      <td>NaN</td>\n",
       "    </tr>\n",
       "    <tr>\n",
       "      <th>1</th>\n",
       "      <td>3095.78</td>\n",
       "      <td>2465.14</td>\n",
       "      <td>2230.4222</td>\n",
       "      <td>1463.6606</td>\n",
       "      <td>0.8294</td>\n",
       "      <td>100.0</td>\n",
       "      <td>102.3433</td>\n",
       "      <td>0.1247</td>\n",
       "      <td>1.4966</td>\n",
       "      <td>-0.0005</td>\n",
       "      <td>...</td>\n",
       "      <td>0.0060</td>\n",
       "      <td>208.2045</td>\n",
       "      <td>0.5019</td>\n",
       "      <td>0.0223</td>\n",
       "      <td>0.0055</td>\n",
       "      <td>4.4447</td>\n",
       "      <td>0.0096</td>\n",
       "      <td>0.0201</td>\n",
       "      <td>0.0060</td>\n",
       "      <td>208.2045</td>\n",
       "    </tr>\n",
       "    <tr>\n",
       "      <th>2</th>\n",
       "      <td>2932.61</td>\n",
       "      <td>2559.94</td>\n",
       "      <td>2186.4111</td>\n",
       "      <td>1698.0172</td>\n",
       "      <td>1.5102</td>\n",
       "      <td>100.0</td>\n",
       "      <td>95.4878</td>\n",
       "      <td>0.1241</td>\n",
       "      <td>1.4436</td>\n",
       "      <td>0.0041</td>\n",
       "      <td>...</td>\n",
       "      <td>0.0148</td>\n",
       "      <td>82.8602</td>\n",
       "      <td>0.4958</td>\n",
       "      <td>0.0157</td>\n",
       "      <td>0.0039</td>\n",
       "      <td>3.1745</td>\n",
       "      <td>0.0584</td>\n",
       "      <td>0.0484</td>\n",
       "      <td>0.0148</td>\n",
       "      <td>82.8602</td>\n",
       "    </tr>\n",
       "    <tr>\n",
       "      <th>3</th>\n",
       "      <td>2988.72</td>\n",
       "      <td>2479.90</td>\n",
       "      <td>2199.0333</td>\n",
       "      <td>909.7926</td>\n",
       "      <td>1.3204</td>\n",
       "      <td>100.0</td>\n",
       "      <td>104.2367</td>\n",
       "      <td>0.1217</td>\n",
       "      <td>1.4882</td>\n",
       "      <td>-0.0124</td>\n",
       "      <td>...</td>\n",
       "      <td>0.0044</td>\n",
       "      <td>73.8432</td>\n",
       "      <td>0.4990</td>\n",
       "      <td>0.0103</td>\n",
       "      <td>0.0025</td>\n",
       "      <td>2.0544</td>\n",
       "      <td>0.0202</td>\n",
       "      <td>0.0149</td>\n",
       "      <td>0.0044</td>\n",
       "      <td>73.8432</td>\n",
       "    </tr>\n",
       "    <tr>\n",
       "      <th>4</th>\n",
       "      <td>3032.24</td>\n",
       "      <td>2502.87</td>\n",
       "      <td>2233.3667</td>\n",
       "      <td>1326.5200</td>\n",
       "      <td>1.5334</td>\n",
       "      <td>100.0</td>\n",
       "      <td>100.3967</td>\n",
       "      <td>0.1235</td>\n",
       "      <td>1.5031</td>\n",
       "      <td>-0.0031</td>\n",
       "      <td>...</td>\n",
       "      <td>NaN</td>\n",
       "      <td>NaN</td>\n",
       "      <td>0.4800</td>\n",
       "      <td>0.4766</td>\n",
       "      <td>0.1045</td>\n",
       "      <td>99.3032</td>\n",
       "      <td>0.0202</td>\n",
       "      <td>0.0149</td>\n",
       "      <td>0.0044</td>\n",
       "      <td>73.8432</td>\n",
       "    </tr>\n",
       "  </tbody>\n",
       "</table>\n",
       "<p>5 rows × 590 columns</p>\n",
       "</div>"
      ],
      "text/plain": [
       "       0        1          2          3       4      5         6       7    \\\n",
       "0  3030.93  2564.00  2187.7333  1411.1265  1.3602  100.0   97.6133  0.1242   \n",
       "1  3095.78  2465.14  2230.4222  1463.6606  0.8294  100.0  102.3433  0.1247   \n",
       "2  2932.61  2559.94  2186.4111  1698.0172  1.5102  100.0   95.4878  0.1241   \n",
       "3  2988.72  2479.90  2199.0333   909.7926  1.3204  100.0  104.2367  0.1217   \n",
       "4  3032.24  2502.87  2233.3667  1326.5200  1.5334  100.0  100.3967  0.1235   \n",
       "\n",
       "      8       9    ...     580       581     582     583     584      585  \\\n",
       "0  1.5005  0.0162  ...     NaN       NaN  0.5005  0.0118  0.0035   2.3630   \n",
       "1  1.4966 -0.0005  ...  0.0060  208.2045  0.5019  0.0223  0.0055   4.4447   \n",
       "2  1.4436  0.0041  ...  0.0148   82.8602  0.4958  0.0157  0.0039   3.1745   \n",
       "3  1.4882 -0.0124  ...  0.0044   73.8432  0.4990  0.0103  0.0025   2.0544   \n",
       "4  1.5031 -0.0031  ...     NaN       NaN  0.4800  0.4766  0.1045  99.3032   \n",
       "\n",
       "      586     587     588       589  \n",
       "0     NaN     NaN     NaN       NaN  \n",
       "1  0.0096  0.0201  0.0060  208.2045  \n",
       "2  0.0584  0.0484  0.0148   82.8602  \n",
       "3  0.0202  0.0149  0.0044   73.8432  \n",
       "4  0.0202  0.0149  0.0044   73.8432  \n",
       "\n",
       "[5 rows x 590 columns]"
      ]
     },
     "execution_count": 7,
     "metadata": {},
     "output_type": "execute_result"
    }
   ],
   "source": [
    "# have a look at features and its columns\n",
    "features.head()"
   ]
  },
  {
   "cell_type": "code",
   "execution_count": 8,
   "metadata": {},
   "outputs": [
    {
     "data": {
      "text/html": [
       "<div>\n",
       "<style scoped>\n",
       "    .dataframe tbody tr th:only-of-type {\n",
       "        vertical-align: middle;\n",
       "    }\n",
       "\n",
       "    .dataframe tbody tr th {\n",
       "        vertical-align: top;\n",
       "    }\n",
       "\n",
       "    .dataframe thead th {\n",
       "        text-align: right;\n",
       "    }\n",
       "</style>\n",
       "<table border=\"1\" class=\"dataframe\">\n",
       "  <thead>\n",
       "    <tr style=\"text-align: right;\">\n",
       "      <th></th>\n",
       "      <th>feature_1</th>\n",
       "      <th>feature_2</th>\n",
       "      <th>feature_3</th>\n",
       "      <th>feature_4</th>\n",
       "      <th>feature_5</th>\n",
       "      <th>feature_6</th>\n",
       "      <th>feature_7</th>\n",
       "      <th>feature_8</th>\n",
       "      <th>feature_9</th>\n",
       "      <th>feature_10</th>\n",
       "      <th>...</th>\n",
       "      <th>feature_581</th>\n",
       "      <th>feature_582</th>\n",
       "      <th>feature_583</th>\n",
       "      <th>feature_584</th>\n",
       "      <th>feature_585</th>\n",
       "      <th>feature_586</th>\n",
       "      <th>feature_587</th>\n",
       "      <th>feature_588</th>\n",
       "      <th>feature_589</th>\n",
       "      <th>feature_590</th>\n",
       "    </tr>\n",
       "  </thead>\n",
       "  <tbody>\n",
       "    <tr>\n",
       "      <th>0</th>\n",
       "      <td>3030.93</td>\n",
       "      <td>2564.00</td>\n",
       "      <td>2187.7333</td>\n",
       "      <td>1411.1265</td>\n",
       "      <td>1.3602</td>\n",
       "      <td>100.0</td>\n",
       "      <td>97.6133</td>\n",
       "      <td>0.1242</td>\n",
       "      <td>1.5005</td>\n",
       "      <td>0.0162</td>\n",
       "      <td>...</td>\n",
       "      <td>NaN</td>\n",
       "      <td>NaN</td>\n",
       "      <td>0.5005</td>\n",
       "      <td>0.0118</td>\n",
       "      <td>0.0035</td>\n",
       "      <td>2.3630</td>\n",
       "      <td>NaN</td>\n",
       "      <td>NaN</td>\n",
       "      <td>NaN</td>\n",
       "      <td>NaN</td>\n",
       "    </tr>\n",
       "    <tr>\n",
       "      <th>1</th>\n",
       "      <td>3095.78</td>\n",
       "      <td>2465.14</td>\n",
       "      <td>2230.4222</td>\n",
       "      <td>1463.6606</td>\n",
       "      <td>0.8294</td>\n",
       "      <td>100.0</td>\n",
       "      <td>102.3433</td>\n",
       "      <td>0.1247</td>\n",
       "      <td>1.4966</td>\n",
       "      <td>-0.0005</td>\n",
       "      <td>...</td>\n",
       "      <td>0.0060</td>\n",
       "      <td>208.2045</td>\n",
       "      <td>0.5019</td>\n",
       "      <td>0.0223</td>\n",
       "      <td>0.0055</td>\n",
       "      <td>4.4447</td>\n",
       "      <td>0.0096</td>\n",
       "      <td>0.0201</td>\n",
       "      <td>0.0060</td>\n",
       "      <td>208.2045</td>\n",
       "    </tr>\n",
       "    <tr>\n",
       "      <th>2</th>\n",
       "      <td>2932.61</td>\n",
       "      <td>2559.94</td>\n",
       "      <td>2186.4111</td>\n",
       "      <td>1698.0172</td>\n",
       "      <td>1.5102</td>\n",
       "      <td>100.0</td>\n",
       "      <td>95.4878</td>\n",
       "      <td>0.1241</td>\n",
       "      <td>1.4436</td>\n",
       "      <td>0.0041</td>\n",
       "      <td>...</td>\n",
       "      <td>0.0148</td>\n",
       "      <td>82.8602</td>\n",
       "      <td>0.4958</td>\n",
       "      <td>0.0157</td>\n",
       "      <td>0.0039</td>\n",
       "      <td>3.1745</td>\n",
       "      <td>0.0584</td>\n",
       "      <td>0.0484</td>\n",
       "      <td>0.0148</td>\n",
       "      <td>82.8602</td>\n",
       "    </tr>\n",
       "    <tr>\n",
       "      <th>3</th>\n",
       "      <td>2988.72</td>\n",
       "      <td>2479.90</td>\n",
       "      <td>2199.0333</td>\n",
       "      <td>909.7926</td>\n",
       "      <td>1.3204</td>\n",
       "      <td>100.0</td>\n",
       "      <td>104.2367</td>\n",
       "      <td>0.1217</td>\n",
       "      <td>1.4882</td>\n",
       "      <td>-0.0124</td>\n",
       "      <td>...</td>\n",
       "      <td>0.0044</td>\n",
       "      <td>73.8432</td>\n",
       "      <td>0.4990</td>\n",
       "      <td>0.0103</td>\n",
       "      <td>0.0025</td>\n",
       "      <td>2.0544</td>\n",
       "      <td>0.0202</td>\n",
       "      <td>0.0149</td>\n",
       "      <td>0.0044</td>\n",
       "      <td>73.8432</td>\n",
       "    </tr>\n",
       "    <tr>\n",
       "      <th>4</th>\n",
       "      <td>3032.24</td>\n",
       "      <td>2502.87</td>\n",
       "      <td>2233.3667</td>\n",
       "      <td>1326.5200</td>\n",
       "      <td>1.5334</td>\n",
       "      <td>100.0</td>\n",
       "      <td>100.3967</td>\n",
       "      <td>0.1235</td>\n",
       "      <td>1.5031</td>\n",
       "      <td>-0.0031</td>\n",
       "      <td>...</td>\n",
       "      <td>NaN</td>\n",
       "      <td>NaN</td>\n",
       "      <td>0.4800</td>\n",
       "      <td>0.4766</td>\n",
       "      <td>0.1045</td>\n",
       "      <td>99.3032</td>\n",
       "      <td>0.0202</td>\n",
       "      <td>0.0149</td>\n",
       "      <td>0.0044</td>\n",
       "      <td>73.8432</td>\n",
       "    </tr>\n",
       "  </tbody>\n",
       "</table>\n",
       "<p>5 rows × 590 columns</p>\n",
       "</div>"
      ],
      "text/plain": [
       "   feature_1  feature_2  feature_3  feature_4  feature_5  feature_6  \\\n",
       "0    3030.93    2564.00  2187.7333  1411.1265     1.3602      100.0   \n",
       "1    3095.78    2465.14  2230.4222  1463.6606     0.8294      100.0   \n",
       "2    2932.61    2559.94  2186.4111  1698.0172     1.5102      100.0   \n",
       "3    2988.72    2479.90  2199.0333   909.7926     1.3204      100.0   \n",
       "4    3032.24    2502.87  2233.3667  1326.5200     1.5334      100.0   \n",
       "\n",
       "   feature_7  feature_8  feature_9  feature_10  ...  feature_581  feature_582  \\\n",
       "0    97.6133     0.1242     1.5005      0.0162  ...          NaN          NaN   \n",
       "1   102.3433     0.1247     1.4966     -0.0005  ...       0.0060     208.2045   \n",
       "2    95.4878     0.1241     1.4436      0.0041  ...       0.0148      82.8602   \n",
       "3   104.2367     0.1217     1.4882     -0.0124  ...       0.0044      73.8432   \n",
       "4   100.3967     0.1235     1.5031     -0.0031  ...          NaN          NaN   \n",
       "\n",
       "   feature_583  feature_584  feature_585  feature_586  feature_587  \\\n",
       "0       0.5005       0.0118       0.0035       2.3630          NaN   \n",
       "1       0.5019       0.0223       0.0055       4.4447       0.0096   \n",
       "2       0.4958       0.0157       0.0039       3.1745       0.0584   \n",
       "3       0.4990       0.0103       0.0025       2.0544       0.0202   \n",
       "4       0.4800       0.4766       0.1045      99.3032       0.0202   \n",
       "\n",
       "   feature_588  feature_589  feature_590  \n",
       "0          NaN          NaN          NaN  \n",
       "1       0.0201       0.0060     208.2045  \n",
       "2       0.0484       0.0148      82.8602  \n",
       "3       0.0149       0.0044      73.8432  \n",
       "4       0.0149       0.0044      73.8432  \n",
       "\n",
       "[5 rows x 590 columns]"
      ]
     },
     "execution_count": 8,
     "metadata": {},
     "output_type": "execute_result"
    }
   ],
   "source": [
    "# Label all the features with the feature prefix\n",
    "features.columns = ['feature_' + str(int(col)+1) for col in features.columns]\n",
    "\n",
    "# Check for confirmation\n",
    "features.head()"
   ]
  },
  {
   "cell_type": "code",
   "execution_count": 9,
   "metadata": {
    "scrolled": true
   },
   "outputs": [
    {
     "data": {
      "text/html": [
       "<div>\n",
       "<style scoped>\n",
       "    .dataframe tbody tr th:only-of-type {\n",
       "        vertical-align: middle;\n",
       "    }\n",
       "\n",
       "    .dataframe tbody tr th {\n",
       "        vertical-align: top;\n",
       "    }\n",
       "\n",
       "    .dataframe thead th {\n",
       "        text-align: right;\n",
       "    }\n",
       "</style>\n",
       "<table border=\"1\" class=\"dataframe\">\n",
       "  <thead>\n",
       "    <tr style=\"text-align: right;\">\n",
       "      <th></th>\n",
       "      <th>label</th>\n",
       "      <th>timestamp</th>\n",
       "      <th>feature_1</th>\n",
       "      <th>feature_2</th>\n",
       "      <th>feature_3</th>\n",
       "      <th>feature_4</th>\n",
       "      <th>feature_5</th>\n",
       "      <th>feature_6</th>\n",
       "      <th>feature_7</th>\n",
       "      <th>feature_8</th>\n",
       "      <th>...</th>\n",
       "      <th>feature_581</th>\n",
       "      <th>feature_582</th>\n",
       "      <th>feature_583</th>\n",
       "      <th>feature_584</th>\n",
       "      <th>feature_585</th>\n",
       "      <th>feature_586</th>\n",
       "      <th>feature_587</th>\n",
       "      <th>feature_588</th>\n",
       "      <th>feature_589</th>\n",
       "      <th>feature_590</th>\n",
       "    </tr>\n",
       "  </thead>\n",
       "  <tbody>\n",
       "    <tr>\n",
       "      <th>0</th>\n",
       "      <td>-1</td>\n",
       "      <td>19/07/2008 11:55:00</td>\n",
       "      <td>3030.93</td>\n",
       "      <td>2564.00</td>\n",
       "      <td>2187.7333</td>\n",
       "      <td>1411.1265</td>\n",
       "      <td>1.3602</td>\n",
       "      <td>100.0</td>\n",
       "      <td>97.6133</td>\n",
       "      <td>0.1242</td>\n",
       "      <td>...</td>\n",
       "      <td>NaN</td>\n",
       "      <td>NaN</td>\n",
       "      <td>0.5005</td>\n",
       "      <td>0.0118</td>\n",
       "      <td>0.0035</td>\n",
       "      <td>2.3630</td>\n",
       "      <td>NaN</td>\n",
       "      <td>NaN</td>\n",
       "      <td>NaN</td>\n",
       "      <td>NaN</td>\n",
       "    </tr>\n",
       "    <tr>\n",
       "      <th>1</th>\n",
       "      <td>-1</td>\n",
       "      <td>19/07/2008 12:32:00</td>\n",
       "      <td>3095.78</td>\n",
       "      <td>2465.14</td>\n",
       "      <td>2230.4222</td>\n",
       "      <td>1463.6606</td>\n",
       "      <td>0.8294</td>\n",
       "      <td>100.0</td>\n",
       "      <td>102.3433</td>\n",
       "      <td>0.1247</td>\n",
       "      <td>...</td>\n",
       "      <td>0.0060</td>\n",
       "      <td>208.2045</td>\n",
       "      <td>0.5019</td>\n",
       "      <td>0.0223</td>\n",
       "      <td>0.0055</td>\n",
       "      <td>4.4447</td>\n",
       "      <td>0.0096</td>\n",
       "      <td>0.0201</td>\n",
       "      <td>0.0060</td>\n",
       "      <td>208.2045</td>\n",
       "    </tr>\n",
       "    <tr>\n",
       "      <th>2</th>\n",
       "      <td>1</td>\n",
       "      <td>19/07/2008 13:17:00</td>\n",
       "      <td>2932.61</td>\n",
       "      <td>2559.94</td>\n",
       "      <td>2186.4111</td>\n",
       "      <td>1698.0172</td>\n",
       "      <td>1.5102</td>\n",
       "      <td>100.0</td>\n",
       "      <td>95.4878</td>\n",
       "      <td>0.1241</td>\n",
       "      <td>...</td>\n",
       "      <td>0.0148</td>\n",
       "      <td>82.8602</td>\n",
       "      <td>0.4958</td>\n",
       "      <td>0.0157</td>\n",
       "      <td>0.0039</td>\n",
       "      <td>3.1745</td>\n",
       "      <td>0.0584</td>\n",
       "      <td>0.0484</td>\n",
       "      <td>0.0148</td>\n",
       "      <td>82.8602</td>\n",
       "    </tr>\n",
       "    <tr>\n",
       "      <th>3</th>\n",
       "      <td>-1</td>\n",
       "      <td>19/07/2008 14:43:00</td>\n",
       "      <td>2988.72</td>\n",
       "      <td>2479.90</td>\n",
       "      <td>2199.0333</td>\n",
       "      <td>909.7926</td>\n",
       "      <td>1.3204</td>\n",
       "      <td>100.0</td>\n",
       "      <td>104.2367</td>\n",
       "      <td>0.1217</td>\n",
       "      <td>...</td>\n",
       "      <td>0.0044</td>\n",
       "      <td>73.8432</td>\n",
       "      <td>0.4990</td>\n",
       "      <td>0.0103</td>\n",
       "      <td>0.0025</td>\n",
       "      <td>2.0544</td>\n",
       "      <td>0.0202</td>\n",
       "      <td>0.0149</td>\n",
       "      <td>0.0044</td>\n",
       "      <td>73.8432</td>\n",
       "    </tr>\n",
       "    <tr>\n",
       "      <th>4</th>\n",
       "      <td>-1</td>\n",
       "      <td>19/07/2008 15:22:00</td>\n",
       "      <td>3032.24</td>\n",
       "      <td>2502.87</td>\n",
       "      <td>2233.3667</td>\n",
       "      <td>1326.5200</td>\n",
       "      <td>1.5334</td>\n",
       "      <td>100.0</td>\n",
       "      <td>100.3967</td>\n",
       "      <td>0.1235</td>\n",
       "      <td>...</td>\n",
       "      <td>NaN</td>\n",
       "      <td>NaN</td>\n",
       "      <td>0.4800</td>\n",
       "      <td>0.4766</td>\n",
       "      <td>0.1045</td>\n",
       "      <td>99.3032</td>\n",
       "      <td>0.0202</td>\n",
       "      <td>0.0149</td>\n",
       "      <td>0.0044</td>\n",
       "      <td>73.8432</td>\n",
       "    </tr>\n",
       "  </tbody>\n",
       "</table>\n",
       "<p>5 rows × 592 columns</p>\n",
       "</div>"
      ],
      "text/plain": [
       "   label            timestamp  feature_1  feature_2  feature_3  feature_4  \\\n",
       "0     -1  19/07/2008 11:55:00    3030.93    2564.00  2187.7333  1411.1265   \n",
       "1     -1  19/07/2008 12:32:00    3095.78    2465.14  2230.4222  1463.6606   \n",
       "2      1  19/07/2008 13:17:00    2932.61    2559.94  2186.4111  1698.0172   \n",
       "3     -1  19/07/2008 14:43:00    2988.72    2479.90  2199.0333   909.7926   \n",
       "4     -1  19/07/2008 15:22:00    3032.24    2502.87  2233.3667  1326.5200   \n",
       "\n",
       "   feature_5  feature_6  feature_7  feature_8  ...  feature_581  feature_582  \\\n",
       "0     1.3602      100.0    97.6133     0.1242  ...          NaN          NaN   \n",
       "1     0.8294      100.0   102.3433     0.1247  ...       0.0060     208.2045   \n",
       "2     1.5102      100.0    95.4878     0.1241  ...       0.0148      82.8602   \n",
       "3     1.3204      100.0   104.2367     0.1217  ...       0.0044      73.8432   \n",
       "4     1.5334      100.0   100.3967     0.1235  ...          NaN          NaN   \n",
       "\n",
       "   feature_583  feature_584  feature_585  feature_586  feature_587  \\\n",
       "0       0.5005       0.0118       0.0035       2.3630          NaN   \n",
       "1       0.5019       0.0223       0.0055       4.4447       0.0096   \n",
       "2       0.4958       0.0157       0.0039       3.1745       0.0584   \n",
       "3       0.4990       0.0103       0.0025       2.0544       0.0202   \n",
       "4       0.4800       0.4766       0.1045      99.3032       0.0202   \n",
       "\n",
       "   feature_588  feature_589  feature_590  \n",
       "0          NaN          NaN          NaN  \n",
       "1       0.0201       0.0060     208.2045  \n",
       "2       0.0484       0.0148      82.8602  \n",
       "3       0.0149       0.0044      73.8432  \n",
       "4       0.0149       0.0044      73.8432  \n",
       "\n",
       "[5 rows x 592 columns]"
      ]
     },
     "execution_count": 9,
     "metadata": {},
     "output_type": "execute_result"
    }
   ],
   "source": [
    "# Join label_with_timestamp with features \n",
    "complete_data = label_with_timestamp.join(features, how='outer')\n",
    "# Check for confirmation\n",
    "complete_data.head()"
   ]
  },
  {
   "cell_type": "code",
   "execution_count": 10,
   "metadata": {},
   "outputs": [],
   "source": [
    "# Convert timestamp column to standard datetime for further processing\n",
    "complete_data['timestamp'] = pd.to_datetime(complete_data['timestamp'])"
   ]
  },
  {
   "cell_type": "markdown",
   "metadata": {},
   "source": [
    "## 1. DATA PREPROCESSING"
   ]
  },
  {
   "cell_type": "markdown",
   "metadata": {},
   "source": [
    "### 1.1 Removing Constant Features"
   ]
  },
  {
   "cell_type": "code",
   "execution_count": 11,
   "metadata": {},
   "outputs": [],
   "source": [
    "# Remove constant features by checking if the variance of feature is 0\n",
    "const_features = features.loc[:, features.var() == 0]\n"
   ]
  },
  {
   "cell_type": "code",
   "execution_count": 12,
   "metadata": {},
   "outputs": [
    {
     "data": {
      "text/plain": [
       "(1567, 116)"
      ]
     },
     "execution_count": 12,
     "metadata": {},
     "output_type": "execute_result"
    }
   ],
   "source": [
    "const_features.shape"
   ]
  },
  {
   "cell_type": "code",
   "execution_count": 13,
   "metadata": {
    "scrolled": true
   },
   "outputs": [
    {
     "data": {
      "text/html": [
       "<div>\n",
       "<style scoped>\n",
       "    .dataframe tbody tr th:only-of-type {\n",
       "        vertical-align: middle;\n",
       "    }\n",
       "\n",
       "    .dataframe tbody tr th {\n",
       "        vertical-align: top;\n",
       "    }\n",
       "\n",
       "    .dataframe thead th {\n",
       "        text-align: right;\n",
       "    }\n",
       "</style>\n",
       "<table border=\"1\" class=\"dataframe\">\n",
       "  <thead>\n",
       "    <tr style=\"text-align: right;\">\n",
       "      <th></th>\n",
       "      <th>label</th>\n",
       "      <th>timestamp</th>\n",
       "      <th>feature_1</th>\n",
       "      <th>feature_2</th>\n",
       "      <th>feature_3</th>\n",
       "      <th>feature_4</th>\n",
       "      <th>feature_5</th>\n",
       "      <th>feature_7</th>\n",
       "      <th>feature_8</th>\n",
       "      <th>feature_9</th>\n",
       "      <th>...</th>\n",
       "      <th>feature_581</th>\n",
       "      <th>feature_582</th>\n",
       "      <th>feature_583</th>\n",
       "      <th>feature_584</th>\n",
       "      <th>feature_585</th>\n",
       "      <th>feature_586</th>\n",
       "      <th>feature_587</th>\n",
       "      <th>feature_588</th>\n",
       "      <th>feature_589</th>\n",
       "      <th>feature_590</th>\n",
       "    </tr>\n",
       "  </thead>\n",
       "  <tbody>\n",
       "    <tr>\n",
       "      <th>0</th>\n",
       "      <td>-1</td>\n",
       "      <td>2008-07-19 11:55:00</td>\n",
       "      <td>3030.93</td>\n",
       "      <td>2564.00</td>\n",
       "      <td>2187.7333</td>\n",
       "      <td>1411.1265</td>\n",
       "      <td>1.3602</td>\n",
       "      <td>97.6133</td>\n",
       "      <td>0.1242</td>\n",
       "      <td>1.5005</td>\n",
       "      <td>...</td>\n",
       "      <td>NaN</td>\n",
       "      <td>NaN</td>\n",
       "      <td>0.5005</td>\n",
       "      <td>0.0118</td>\n",
       "      <td>0.0035</td>\n",
       "      <td>2.3630</td>\n",
       "      <td>NaN</td>\n",
       "      <td>NaN</td>\n",
       "      <td>NaN</td>\n",
       "      <td>NaN</td>\n",
       "    </tr>\n",
       "    <tr>\n",
       "      <th>1</th>\n",
       "      <td>-1</td>\n",
       "      <td>2008-07-19 12:32:00</td>\n",
       "      <td>3095.78</td>\n",
       "      <td>2465.14</td>\n",
       "      <td>2230.4222</td>\n",
       "      <td>1463.6606</td>\n",
       "      <td>0.8294</td>\n",
       "      <td>102.3433</td>\n",
       "      <td>0.1247</td>\n",
       "      <td>1.4966</td>\n",
       "      <td>...</td>\n",
       "      <td>0.0060</td>\n",
       "      <td>208.2045</td>\n",
       "      <td>0.5019</td>\n",
       "      <td>0.0223</td>\n",
       "      <td>0.0055</td>\n",
       "      <td>4.4447</td>\n",
       "      <td>0.0096</td>\n",
       "      <td>0.0201</td>\n",
       "      <td>0.0060</td>\n",
       "      <td>208.2045</td>\n",
       "    </tr>\n",
       "    <tr>\n",
       "      <th>2</th>\n",
       "      <td>1</td>\n",
       "      <td>2008-07-19 13:17:00</td>\n",
       "      <td>2932.61</td>\n",
       "      <td>2559.94</td>\n",
       "      <td>2186.4111</td>\n",
       "      <td>1698.0172</td>\n",
       "      <td>1.5102</td>\n",
       "      <td>95.4878</td>\n",
       "      <td>0.1241</td>\n",
       "      <td>1.4436</td>\n",
       "      <td>...</td>\n",
       "      <td>0.0148</td>\n",
       "      <td>82.8602</td>\n",
       "      <td>0.4958</td>\n",
       "      <td>0.0157</td>\n",
       "      <td>0.0039</td>\n",
       "      <td>3.1745</td>\n",
       "      <td>0.0584</td>\n",
       "      <td>0.0484</td>\n",
       "      <td>0.0148</td>\n",
       "      <td>82.8602</td>\n",
       "    </tr>\n",
       "  </tbody>\n",
       "</table>\n",
       "<p>3 rows × 476 columns</p>\n",
       "</div>"
      ],
      "text/plain": [
       "   label           timestamp  feature_1  feature_2  feature_3  feature_4  \\\n",
       "0     -1 2008-07-19 11:55:00    3030.93    2564.00  2187.7333  1411.1265   \n",
       "1     -1 2008-07-19 12:32:00    3095.78    2465.14  2230.4222  1463.6606   \n",
       "2      1 2008-07-19 13:17:00    2932.61    2559.94  2186.4111  1698.0172   \n",
       "\n",
       "   feature_5  feature_7  feature_8  feature_9  ...  feature_581  feature_582  \\\n",
       "0     1.3602    97.6133     0.1242     1.5005  ...          NaN          NaN   \n",
       "1     0.8294   102.3433     0.1247     1.4966  ...       0.0060     208.2045   \n",
       "2     1.5102    95.4878     0.1241     1.4436  ...       0.0148      82.8602   \n",
       "\n",
       "   feature_583  feature_584  feature_585  feature_586  feature_587  \\\n",
       "0       0.5005       0.0118       0.0035       2.3630          NaN   \n",
       "1       0.5019       0.0223       0.0055       4.4447       0.0096   \n",
       "2       0.4958       0.0157       0.0039       3.1745       0.0584   \n",
       "\n",
       "   feature_588  feature_589  feature_590  \n",
       "0          NaN          NaN          NaN  \n",
       "1       0.0201       0.0060     208.2045  \n",
       "2       0.0484       0.0148      82.8602  \n",
       "\n",
       "[3 rows x 476 columns]"
      ]
     },
     "execution_count": 13,
     "metadata": {},
     "output_type": "execute_result"
    }
   ],
   "source": [
    "# Eliminating columns that have constant value from the complete_data dataframe\n",
    "complete_data_with_const_features_removed = complete_data.drop(const_features.columns, axis=1)\n",
    "complete_data_with_const_features_removed.head(n=3)"
   ]
  },
  {
   "cell_type": "code",
   "execution_count": 14,
   "metadata": {},
   "outputs": [
    {
     "data": {
      "text/plain": [
       "(1567, 476)"
      ]
     },
     "execution_count": 14,
     "metadata": {},
     "output_type": "execute_result"
    }
   ],
   "source": [
    "complete_data_with_const_features_removed.shape"
   ]
  },
  {
   "cell_type": "code",
   "execution_count": 15,
   "metadata": {
    "scrolled": true
   },
   "outputs": [
    {
     "data": {
      "text/plain": [
       "label\n",
       "-1    1463\n",
       " 1     104\n",
       "Name: timestamp, dtype: int64"
      ]
     },
     "execution_count": 15,
     "metadata": {},
     "output_type": "execute_result"
    }
   ],
   "source": [
    "# Check for imbalance in the data\n",
    "complete_data_with_const_features_removed.groupby([\"label\"])['timestamp'].count()"
   ]
  },
  {
   "cell_type": "code",
   "execution_count": 16,
   "metadata": {},
   "outputs": [
    {
     "name": "stdout",
     "output_type": "stream",
     "text": [
      "Count of greater than 50 Null values in each row: 42\n",
      "Count of greater than 100 Null values in each row: 3\n"
     ]
    }
   ],
   "source": [
    "# null values in each row\n",
    "null_count_in_rows = complete_data_with_const_features_removed[complete_data_with_const_features_removed.isnull().sum(axis=1)>=50]\n",
    "print(\"Count of greater than 50 Null values in each row:\", null_count_in_rows.shape[0])\n",
    "null_count_in_rows = complete_data_with_const_features_removed[complete_data_with_const_features_removed.isnull().sum(axis=1)>=100]\n",
    "print(\"Count of greater than 100 Null values in each row:\", null_count_in_rows.shape[0])"
   ]
  },
  {
   "cell_type": "markdown",
   "metadata": {},
   "source": [
    "### 1.2. Removing columns with too many null values "
   ]
  },
  {
   "cell_type": "code",
   "execution_count": 17,
   "metadata": {},
   "outputs": [
    {
     "data": {
      "text/html": [
       "<div>\n",
       "<style scoped>\n",
       "    .dataframe tbody tr th:only-of-type {\n",
       "        vertical-align: middle;\n",
       "    }\n",
       "\n",
       "    .dataframe tbody tr th {\n",
       "        vertical-align: top;\n",
       "    }\n",
       "\n",
       "    .dataframe thead th {\n",
       "        text-align: right;\n",
       "    }\n",
       "</style>\n",
       "<table border=\"1\" class=\"dataframe\">\n",
       "  <thead>\n",
       "    <tr style=\"text-align: right;\">\n",
       "      <th></th>\n",
       "      <th>Total Missing Values</th>\n",
       "      <th>Percent</th>\n",
       "    </tr>\n",
       "  </thead>\n",
       "  <tbody>\n",
       "    <tr>\n",
       "      <th>feature_159</th>\n",
       "      <td>1429</td>\n",
       "      <td>91.193363</td>\n",
       "    </tr>\n",
       "    <tr>\n",
       "      <th>feature_158</th>\n",
       "      <td>1429</td>\n",
       "      <td>91.193363</td>\n",
       "    </tr>\n",
       "    <tr>\n",
       "      <th>feature_293</th>\n",
       "      <td>1429</td>\n",
       "      <td>91.193363</td>\n",
       "    </tr>\n",
       "    <tr>\n",
       "      <th>feature_294</th>\n",
       "      <td>1429</td>\n",
       "      <td>91.193363</td>\n",
       "    </tr>\n",
       "    <tr>\n",
       "      <th>feature_359</th>\n",
       "      <td>1341</td>\n",
       "      <td>85.577537</td>\n",
       "    </tr>\n",
       "  </tbody>\n",
       "</table>\n",
       "</div>"
      ],
      "text/plain": [
       "             Total Missing Values    Percent\n",
       "feature_159                  1429  91.193363\n",
       "feature_158                  1429  91.193363\n",
       "feature_293                  1429  91.193363\n",
       "feature_294                  1429  91.193363\n",
       "feature_359                  1341  85.577537"
      ]
     },
     "execution_count": 17,
     "metadata": {},
     "output_type": "execute_result"
    }
   ],
   "source": [
    "# Calculations for plotting a histogram of null values in all features in descending order\n",
    "\n",
    "# Sum up all the null values in each feature\n",
    "total = complete_data_with_const_features_removed.isnull().sum().sort_values(ascending=False)\n",
    "\n",
    "# Calculate percentage of null values in each column\n",
    "percent = (100*complete_data_with_const_features_removed.isnull().sum()/complete_data_with_const_features_removed.isnull().count()).sort_values(ascending=False)\n",
    "\n",
    "# Make a dataframe that has all the features and their corresponsding % missing values\n",
    "missing_data = pd.concat([total, percent], axis=1, keys=['Total Missing Values', 'Percent'])\n",
    "missing_data.head()"
   ]
  },
  {
   "cell_type": "code",
   "execution_count": 18,
   "metadata": {},
   "outputs": [
    {
     "data": {
      "image/png": "[encoded data removed]",
      "text/plain": [
       "<Figure size 1080x432 with 1 Axes>"
      ]
     },
     "metadata": {
      "needs_background": "light"
     },
     "output_type": "display_data"
    }
   ],
   "source": [
    "# All features that have greater than 5% missing values\n",
    "missing_data_5 = missing_data[missing_data[\"Percent\"]>5]\n",
    "\n",
    "# Plotting histogram of columns having number of null values greater than 5%\n",
    "f, ax = plt.subplots(figsize=(15, 6))\n",
    "plt.xticks(rotation='90')\n",
    "\n",
    "# Plotting Threshold\n",
    "ax.hlines(40, -5, 60, linestyle='--')\n",
    "\n",
    "sns.barplot(x=missing_data_5.index, y=missing_data_5['Percent'])\n",
    "plt.xlabel('Features', fontsize=15)\n",
    "plt.ylabel('Percent of missing values', fontsize=15)\n",
    "plt.title('Percent missing data by feature > 5%', fontsize=15)\n",
    "plt.show();"
   ]
  },
  {
   "cell_type": "code",
   "execution_count": 19,
   "metadata": {
    "scrolled": true
   },
   "outputs": [],
   "source": [
    "# All features that have greater than 40% missing values\n",
    "missing_data_40 = missing_data[missing_data[\"Percent\"]>40]"
   ]
  },
  {
   "cell_type": "code",
   "execution_count": 20,
   "metadata": {},
   "outputs": [
    {
     "data": {
      "text/plain": [
       "32"
      ]
     },
     "execution_count": 20,
     "metadata": {},
     "output_type": "execute_result"
    }
   ],
   "source": [
    "# Check how many features have greater than 40% Null Values\n",
    "len(missing_data_40)"
   ]
  },
  {
   "cell_type": "code",
   "execution_count": 21,
   "metadata": {
    "scrolled": true
   },
   "outputs": [
    {
     "data": {
      "text/html": [
       "<div>\n",
       "<style scoped>\n",
       "    .dataframe tbody tr th:only-of-type {\n",
       "        vertical-align: middle;\n",
       "    }\n",
       "\n",
       "    .dataframe tbody tr th {\n",
       "        vertical-align: top;\n",
       "    }\n",
       "\n",
       "    .dataframe thead th {\n",
       "        text-align: right;\n",
       "    }\n",
       "</style>\n",
       "<table border=\"1\" class=\"dataframe\">\n",
       "  <thead>\n",
       "    <tr style=\"text-align: right;\">\n",
       "      <th></th>\n",
       "      <th>label</th>\n",
       "      <th>timestamp</th>\n",
       "      <th>feature_1</th>\n",
       "      <th>feature_2</th>\n",
       "      <th>feature_3</th>\n",
       "      <th>feature_4</th>\n",
       "      <th>feature_5</th>\n",
       "      <th>feature_7</th>\n",
       "      <th>feature_8</th>\n",
       "      <th>feature_9</th>\n",
       "      <th>...</th>\n",
       "      <th>feature_577</th>\n",
       "      <th>feature_578</th>\n",
       "      <th>feature_583</th>\n",
       "      <th>feature_584</th>\n",
       "      <th>feature_585</th>\n",
       "      <th>feature_586</th>\n",
       "      <th>feature_587</th>\n",
       "      <th>feature_588</th>\n",
       "      <th>feature_589</th>\n",
       "      <th>feature_590</th>\n",
       "    </tr>\n",
       "  </thead>\n",
       "  <tbody>\n",
       "    <tr>\n",
       "      <th>0</th>\n",
       "      <td>-1</td>\n",
       "      <td>2008-07-19 11:55:00</td>\n",
       "      <td>3030.93</td>\n",
       "      <td>2564.0</td>\n",
       "      <td>2187.7333</td>\n",
       "      <td>1411.1265</td>\n",
       "      <td>1.3602</td>\n",
       "      <td>97.6133</td>\n",
       "      <td>0.1242</td>\n",
       "      <td>1.5005</td>\n",
       "      <td>...</td>\n",
       "      <td>1.6765</td>\n",
       "      <td>14.9509</td>\n",
       "      <td>0.5005</td>\n",
       "      <td>0.0118</td>\n",
       "      <td>0.0035</td>\n",
       "      <td>2.363</td>\n",
       "      <td>NaN</td>\n",
       "      <td>NaN</td>\n",
       "      <td>NaN</td>\n",
       "      <td>NaN</td>\n",
       "    </tr>\n",
       "  </tbody>\n",
       "</table>\n",
       "<p>1 rows × 444 columns</p>\n",
       "</div>"
      ],
      "text/plain": [
       "   label           timestamp  feature_1  feature_2  feature_3  feature_4  \\\n",
       "0     -1 2008-07-19 11:55:00    3030.93     2564.0  2187.7333  1411.1265   \n",
       "\n",
       "   feature_5  feature_7  feature_8  feature_9  ...  feature_577  feature_578  \\\n",
       "0     1.3602    97.6133     0.1242     1.5005  ...       1.6765      14.9509   \n",
       "\n",
       "   feature_583  feature_584  feature_585  feature_586  feature_587  \\\n",
       "0       0.5005       0.0118       0.0035        2.363          NaN   \n",
       "\n",
       "   feature_588  feature_589  feature_590  \n",
       "0          NaN          NaN          NaN  \n",
       "\n",
       "[1 rows x 444 columns]"
      ]
     },
     "execution_count": 21,
     "metadata": {},
     "output_type": "execute_result"
    }
   ],
   "source": [
    "# Dropping columns with greater than 40% null values (32 Features) from complete dataframe(that has constant columns removed)\n",
    "complete_data_with_const_features_and_null_removed = complete_data_with_const_features_removed.drop(missing_data_40.index, axis=1)\n",
    "complete_data_with_const_features_and_null_removed.head(n=1)"
   ]
  },
  {
   "cell_type": "code",
   "execution_count": 22,
   "metadata": {},
   "outputs": [
    {
     "data": {
      "text/plain": [
       "(1567, 444)"
      ]
     },
     "execution_count": 22,
     "metadata": {},
     "output_type": "execute_result"
    }
   ],
   "source": [
    "# Check the shape of newly created dataframe\n",
    "complete_data_with_const_features_and_null_removed.shape"
   ]
  },
  {
   "cell_type": "markdown",
   "metadata": {},
   "source": [
    "### 1.3 TRAIN TEST SPLIT"
   ]
  },
  {
   "cell_type": "code",
   "execution_count": 23,
   "metadata": {},
   "outputs": [],
   "source": [
    "# Splitting dataset into train and test set with 60-40% respectively\n",
    "X = complete_data_with_const_features_and_null_removed.iloc[:,2:]\n",
    "y = complete_data_with_const_features_and_null_removed.iloc[:,:1]\n",
    "X_train, X_test, y_train, y_test = train_test_split(X, y, test_size=0.40, stratify=y, random_state=42)"
   ]
  },
  {
   "cell_type": "code",
   "execution_count": 24,
   "metadata": {},
   "outputs": [
    {
     "name": "stdout",
     "output_type": "stream",
     "text": [
      "X_train:  (940, 442)\n",
      "X_test:  (627, 442)\n",
      "y_train:  (940, 1)\n",
      "y_test:  (627, 1)\n"
     ]
    }
   ],
   "source": [
    "# Check shapes for consistency\n",
    "print(\"X_train: \", X_train.shape)\n",
    "print(\"X_test: \", X_test.shape)\n",
    "print(\"y_train: \", y_train.shape)\n",
    "print(\"y_test: \", y_test.shape)"
   ]
  },
  {
   "cell_type": "code",
   "execution_count": 25,
   "metadata": {},
   "outputs": [
    {
     "data": {
      "text/plain": [
       "-1    878\n",
       " 1     62\n",
       "Name: label, dtype: int64"
      ]
     },
     "execution_count": 25,
     "metadata": {},
     "output_type": "execute_result"
    }
   ],
   "source": [
    "# Imbalance in train set\n",
    "y_train.label.value_counts()"
   ]
  },
  {
   "cell_type": "code",
   "execution_count": 26,
   "metadata": {},
   "outputs": [
    {
     "data": {
      "text/plain": [
       "-1    585\n",
       " 1     42\n",
       "Name: label, dtype: int64"
      ]
     },
     "execution_count": 26,
     "metadata": {},
     "output_type": "execute_result"
    }
   ],
   "source": [
    "# Imbalance in test set\n",
    "y_test.label.value_counts()"
   ]
  },
  {
   "cell_type": "markdown",
   "metadata": {},
   "source": [
    "### 1.4. NORMALIZATION"
   ]
  },
  {
   "cell_type": "markdown",
   "metadata": {},
   "source": [
    "Normalization is necessary, since features have different ranges. We are going to performing Normalization before knn imputed datasets. For Normalizing, the range is (0, 1)\n"
   ]
  },
  {
   "cell_type": "code",
   "execution_count": 27,
   "metadata": {},
   "outputs": [],
   "source": [
    "# Initialize Normalize object for KNN imputation\n",
    "mm_scaler_knn = MinMaxScaler()"
   ]
  },
  {
   "cell_type": "code",
   "execution_count": 28,
   "metadata": {},
   "outputs": [],
   "source": [
    "# Normalization the train features(X_train), will be used for KNN imputation\n",
    "X_train_mm_scaled = mm_scaler_knn.fit_transform(X_train)\n",
    "\n",
    "# Normalization the test features(X_test) with mean and std of train set\n",
    "X_test_mm_scaled = mm_scaler_knn.transform(X_test)"
   ]
  },
  {
   "cell_type": "code",
   "execution_count": 29,
   "metadata": {},
   "outputs": [
    {
     "data": {
      "text/html": [
       "<div>\n",
       "<style scoped>\n",
       "    .dataframe tbody tr th:only-of-type {\n",
       "        vertical-align: middle;\n",
       "    }\n",
       "\n",
       "    .dataframe tbody tr th {\n",
       "        vertical-align: top;\n",
       "    }\n",
       "\n",
       "    .dataframe thead th {\n",
       "        text-align: right;\n",
       "    }\n",
       "</style>\n",
       "<table border=\"1\" class=\"dataframe\">\n",
       "  <thead>\n",
       "    <tr style=\"text-align: right;\">\n",
       "      <th></th>\n",
       "      <th>feature_1</th>\n",
       "      <th>feature_2</th>\n",
       "      <th>feature_3</th>\n",
       "      <th>feature_4</th>\n",
       "      <th>feature_5</th>\n",
       "      <th>feature_7</th>\n",
       "      <th>feature_8</th>\n",
       "      <th>feature_9</th>\n",
       "      <th>feature_10</th>\n",
       "      <th>feature_11</th>\n",
       "      <th>...</th>\n",
       "      <th>feature_577</th>\n",
       "      <th>feature_578</th>\n",
       "      <th>feature_583</th>\n",
       "      <th>feature_584</th>\n",
       "      <th>feature_585</th>\n",
       "      <th>feature_586</th>\n",
       "      <th>feature_587</th>\n",
       "      <th>feature_588</th>\n",
       "      <th>feature_589</th>\n",
       "      <th>feature_590</th>\n",
       "    </tr>\n",
       "  </thead>\n",
       "  <tbody>\n",
       "    <tr>\n",
       "      <th>0</th>\n",
       "      <td>0.538721</td>\n",
       "      <td>0.501090</td>\n",
       "      <td>0.737460</td>\n",
       "      <td>0.235531</td>\n",
       "      <td>0.000728</td>\n",
       "      <td>0.435332</td>\n",
       "      <td>0.942457</td>\n",
       "      <td>0.408642</td>\n",
       "      <td>0.379784</td>\n",
       "      <td>0.436860</td>\n",
       "      <td>...</td>\n",
       "      <td>0.008677</td>\n",
       "      <td>0.063689</td>\n",
       "      <td>0.793750</td>\n",
       "      <td>0.004254</td>\n",
       "      <td>0.003902</td>\n",
       "      <td>0.004191</td>\n",
       "      <td>0.353383</td>\n",
       "      <td>0.166884</td>\n",
       "      <td>0.148551</td>\n",
       "      <td>0.085371</td>\n",
       "    </tr>\n",
       "    <tr>\n",
       "      <th>1</th>\n",
       "      <td>0.491559</td>\n",
       "      <td>0.531460</td>\n",
       "      <td>0.443761</td>\n",
       "      <td>0.248897</td>\n",
       "      <td>0.000180</td>\n",
       "      <td>0.412461</td>\n",
       "      <td>0.978227</td>\n",
       "      <td>0.663961</td>\n",
       "      <td>0.663395</td>\n",
       "      <td>0.304892</td>\n",
       "      <td>...</td>\n",
       "      <td>0.011228</td>\n",
       "      <td>0.035363</td>\n",
       "      <td>0.459375</td>\n",
       "      <td>0.035524</td>\n",
       "      <td>0.031220</td>\n",
       "      <td>0.034985</td>\n",
       "      <td>0.374269</td>\n",
       "      <td>0.241199</td>\n",
       "      <td>0.184783</td>\n",
       "      <td>0.105454</td>\n",
       "    </tr>\n",
       "    <tr>\n",
       "      <th>2</th>\n",
       "      <td>0.314141</td>\n",
       "      <td>0.464722</td>\n",
       "      <td>0.679898</td>\n",
       "      <td>0.353349</td>\n",
       "      <td>0.000242</td>\n",
       "      <td>0.394611</td>\n",
       "      <td>0.944790</td>\n",
       "      <td>0.443957</td>\n",
       "      <td>0.573111</td>\n",
       "      <td>0.370876</td>\n",
       "      <td>...</td>\n",
       "      <td>0.007990</td>\n",
       "      <td>0.031674</td>\n",
       "      <td>0.818750</td>\n",
       "      <td>0.020421</td>\n",
       "      <td>0.022439</td>\n",
       "      <td>0.019410</td>\n",
       "      <td>0.220551</td>\n",
       "      <td>0.169492</td>\n",
       "      <td>0.192029</td>\n",
       "      <td>0.231362</td>\n",
       "    </tr>\n",
       "    <tr>\n",
       "      <th>3</th>\n",
       "      <td>0.828735</td>\n",
       "      <td>0.334421</td>\n",
       "      <td>0.580442</td>\n",
       "      <td>0.125862</td>\n",
       "      <td>0.000076</td>\n",
       "      <td>0.457946</td>\n",
       "      <td>0.933904</td>\n",
       "      <td>0.665058</td>\n",
       "      <td>0.295388</td>\n",
       "      <td>0.475540</td>\n",
       "      <td>...</td>\n",
       "      <td>0.009461</td>\n",
       "      <td>0.032800</td>\n",
       "      <td>0.609375</td>\n",
       "      <td>0.019570</td>\n",
       "      <td>0.015610</td>\n",
       "      <td>0.019018</td>\n",
       "      <td>0.370927</td>\n",
       "      <td>0.367666</td>\n",
       "      <td>0.365942</td>\n",
       "      <td>0.154884</td>\n",
       "    </tr>\n",
       "    <tr>\n",
       "      <th>4</th>\n",
       "      <td>0.325519</td>\n",
       "      <td>0.493790</td>\n",
       "      <td>0.482208</td>\n",
       "      <td>0.290125</td>\n",
       "      <td>0.000611</td>\n",
       "      <td>0.358557</td>\n",
       "      <td>0.964230</td>\n",
       "      <td>0.527089</td>\n",
       "      <td>0.644750</td>\n",
       "      <td>0.422071</td>\n",
       "      <td>...</td>\n",
       "      <td>0.012410</td>\n",
       "      <td>0.113051</td>\n",
       "      <td>0.793750</td>\n",
       "      <td>0.014678</td>\n",
       "      <td>0.019512</td>\n",
       "      <td>0.014046</td>\n",
       "      <td>0.190476</td>\n",
       "      <td>0.089961</td>\n",
       "      <td>0.076087</td>\n",
       "      <td>0.230081</td>\n",
       "    </tr>\n",
       "  </tbody>\n",
       "</table>\n",
       "<p>5 rows × 442 columns</p>\n",
       "</div>"
      ],
      "text/plain": [
       "   feature_1  feature_2  feature_3  feature_4  feature_5  feature_7  \\\n",
       "0   0.538721   0.501090   0.737460   0.235531   0.000728   0.435332   \n",
       "1   0.491559   0.531460   0.443761   0.248897   0.000180   0.412461   \n",
       "2   0.314141   0.464722   0.679898   0.353349   0.000242   0.394611   \n",
       "3   0.828735   0.334421   0.580442   0.125862   0.000076   0.457946   \n",
       "4   0.325519   0.493790   0.482208   0.290125   0.000611   0.358557   \n",
       "\n",
       "   feature_8  feature_9  feature_10  feature_11     ...       feature_577  \\\n",
       "0   0.942457   0.408642    0.379784    0.436860     ...          0.008677   \n",
       "1   0.978227   0.663961    0.663395    0.304892     ...          0.011228   \n",
       "2   0.944790   0.443957    0.573111    0.370876     ...          0.007990   \n",
       "3   0.933904   0.665058    0.295388    0.475540     ...          0.009461   \n",
       "4   0.964230   0.527089    0.644750    0.422071     ...          0.012410   \n",
       "\n",
       "   feature_578  feature_583  feature_584  feature_585  feature_586  \\\n",
       "0     0.063689     0.793750     0.004254     0.003902     0.004191   \n",
       "1     0.035363     0.459375     0.035524     0.031220     0.034985   \n",
       "2     0.031674     0.818750     0.020421     0.022439     0.019410   \n",
       "3     0.032800     0.609375     0.019570     0.015610     0.019018   \n",
       "4     0.113051     0.793750     0.014678     0.019512     0.014046   \n",
       "\n",
       "   feature_587  feature_588  feature_589  feature_590  \n",
       "0     0.353383     0.166884     0.148551     0.085371  \n",
       "1     0.374269     0.241199     0.184783     0.105454  \n",
       "2     0.220551     0.169492     0.192029     0.231362  \n",
       "3     0.370927     0.367666     0.365942     0.154884  \n",
       "4     0.190476     0.089961     0.076087     0.230081  \n",
       "\n",
       "[5 rows x 442 columns]"
      ]
     },
     "execution_count": 29,
     "metadata": {},
     "output_type": "execute_result"
    }
   ],
   "source": [
    "# Convert Normalized train features to dataframe(since Normalizing returns numpy array) and rename columns\n",
    "X_train_mm_scaled= pd.DataFrame(X_train_mm_scaled)\n",
    "X_train_mm_scaled.columns = complete_data_with_const_features_and_null_removed.columns[2:]\n",
    "\n",
    "# Convert Normalized test features to dataframe and rename columns\n",
    "X_test_mm_scaled= pd.DataFrame(X_test_mm_scaled)\n",
    "X_test_mm_scaled.columns = complete_data_with_const_features_and_null_removed.columns[2:]\n",
    "\n",
    "X_test_mm_scaled.head(n=5)"
   ]
  },
  {
   "cell_type": "markdown",
   "metadata": {},
   "source": [
    "### 1.5. IMPUTATION"
   ]
  },
  {
   "cell_type": "markdown",
   "metadata": {},
   "source": [
    "#### 1.5.1 Median Imputation"
   ]
  },
  {
   "cell_type": "markdown",
   "metadata": {},
   "source": [
    "Imputing null values with median\n",
    "Since when imputing median, it doesn't really matter if we impute before or after scaling the data, \n",
    "hence we impute before standardizing/normalizing"
   ]
  },
  {
   "cell_type": "code",
   "execution_count": 30,
   "metadata": {},
   "outputs": [],
   "source": [
    "#Imputing train features\n",
    "median_imputation_train_features = X_train.fillna(X_train.median())\n",
    "\n",
    "#Imputing test features with median of train set\n",
    "median_imputation_test_features = X_test.fillna(X_train.median())"
   ]
  },
  {
   "cell_type": "markdown",
   "metadata": {},
   "source": [
    "#### 1.5.2 K-Nearest Neighbours Imputation"
   ]
  },
  {
   "cell_type": "code",
   "execution_count": 31,
   "metadata": {},
   "outputs": [],
   "source": [
    "# Imputation using KNN, for the sake of simplicity, we are taking 10 neighbours\n",
    "imputer = KNNImputer(n_neighbors=10, weights=\"distance\")"
   ]
  },
  {
   "cell_type": "code",
   "execution_count": 32,
   "metadata": {},
   "outputs": [
    {
     "name": "stderr",
     "output_type": "stream",
     "text": [
      "'warn_on_dtype' is deprecated in version 0.21 and will be removed in 0.23. Don't set `warn_on_dtype` to remove this warning.\n",
      "'warn_on_dtype' is deprecated in version 0.21 and will be removed in 0.23. Don't set `warn_on_dtype` to remove this warning.\n",
      "invalid value encountered in sqrt\n",
      "'warn_on_dtype' is deprecated in version 0.21 and will be removed in 0.23. Don't set `warn_on_dtype` to remove this warning.\n",
      "'warn_on_dtype' is deprecated in version 0.21 and will be removed in 0.23. Don't set `warn_on_dtype` to remove this warning.\n"
     ]
    }
   ],
   "source": [
    "# We are using fit_transform on train set and only transform on test set, for the same reason described before\n",
    "\n",
    "# Performing KNN imputation on Normalized trainset\n",
    "mm_scaled_knn_impute_train_features = imputer.fit_transform(X_train_mm_scaled)\n",
    "mm_scaled_knn_impute_test_features = imputer.transform(X_test_mm_scaled)"
   ]
  },
  {
   "cell_type": "code",
   "execution_count": null,
   "metadata": {},
   "outputs": [],
   "source": [
    "# Converting imputed array to dataframe\n",
    "mm_scaled_knn_impute_train_features = pd.DataFrame(mm_scaled_knn_impute_train_features)\n",
    "mm_scaled_knn_impute_test_features = pd.DataFrame(mm_scaled_knn_impute_test_features)\n",
    "\n",
    "# Restoring column names in knn_imputation\n",
    "mm_scaled_knn_impute_train_features.columns = complete_data_with_const_features_and_null_removed.columns[2:]\n",
    "mm_scaled_knn_impute_test_features.columns = complete_data_with_const_features_and_null_removed.columns[2:]"
   ]
  },
  {
   "cell_type": "markdown",
   "metadata": {},
   "source": [
    "### 1.6 FEATURE SELECTION"
   ]
  },
  {
   "cell_type": "code",
   "execution_count": null,
   "metadata": {},
   "outputs": [],
   "source": [
    "# Applying Boruta to remove redundant features/ features selection\n",
    "\n",
    "forest = RandomForestClassifier(class_weight='balanced', max_depth=1, random_state=10)\n",
    "\n",
    "# <------------------------------Median---------------------------------->\n",
    "\n",
    "boruta_median = boruta_py.BorutaPy(forest)\n",
    "boruta_median.fit_transform(median_imputation_train_features.values, y_train.values.ravel())\n",
    "\n",
    "# <------------------------------KNN---------------------------------->\n",
    "\n",
    "boruta_mm_knn = boruta_py.BorutaPy(forest)\n",
    "boruta_mm_knn.fit_transform(mm_scaled_knn_impute_train_features.values, y_train.values.ravel())\n",
    "print(\" \")"
   ]
  },
  {
   "cell_type": "code",
   "execution_count": null,
   "metadata": {},
   "outputs": [],
   "source": [
    "# <------------------------Preparing Dataset with selected features given by Boruta-------------------------------->\n",
    "\n",
    "# Filtering important features selected by boruta\n",
    "boruta_median_df = pd.DataFrame(boruta_median.support_)\n",
    "boruta_mm_knn_df = pd.DataFrame(boruta_mm_knn.support_)\n",
    "\n",
    "# Taking transpose to convert index(feature names) to columns\n",
    "boruta_median_df = boruta_median_df.transpose()\n",
    "boruta_mm_knn_df = boruta_mm_knn_df.transpose()\n",
    "\n",
    "# Renaming columns in order to preserve information about each feature\n",
    "boruta_median_df.columns = complete_data_with_const_features_and_null_removed.iloc[:,2:].columns\n",
    "boruta_mm_knn_df.columns = complete_data_with_const_features_and_null_removed.iloc[:,2:].columns\n",
    "\n",
    "# Taking transpose again to fetch only important features in the next cell\n",
    "boruta_median_df = boruta_median_df.transpose()\n",
    "boruta_mm_knn_df = boruta_mm_knn_df.transpose()"
   ]
  },
  {
   "cell_type": "code",
   "execution_count": null,
   "metadata": {},
   "outputs": [],
   "source": [
    "# Transforming median imputed train set using boruta(feature selection)\n",
    "boruta_median_filtered = boruta_median.transform(median_imputation_train_features.values)\n",
    "\n",
    "# Converting to dataframe\n",
    "boruta_median_df_filtered = pd.DataFrame(boruta_median_filtered)\n",
    "\n",
    "# Renaming columns\n",
    "boruta_median_df_filtered.columns = boruta_median_df[boruta_median_df[0]==True].transpose().columns\n",
    "\n",
    "# Check if everything worked\n",
    "boruta_median_df_filtered.head(n=3)"
   ]
  },
  {
   "cell_type": "code",
   "execution_count": null,
   "metadata": {},
   "outputs": [],
   "source": [
    "# Transforming Normalized KNN imputed train set using boruta(feature selection)\n",
    "boruta_mm_knn_filtered = boruta_mm_knn.transform(mm_scaled_knn_impute_train_features.values)\n",
    "\n",
    "# Converting to dataframe\n",
    "boruta_mm_knn_df_filtered = pd.DataFrame(boruta_mm_knn_filtered)\n",
    "\n",
    "# Renaming columns\n",
    "boruta_mm_knn_df_filtered.columns = boruta_mm_knn_df[boruta_mm_knn_df[0]==True].transpose().columns\n",
    "\n",
    "# Check if everything worked\n",
    "boruta_mm_knn_df_filtered.head(n=3)"
   ]
  },
  {
   "cell_type": "code",
   "execution_count": null,
   "metadata": {},
   "outputs": [],
   "source": [
    "# Checking common columns in both median and KNN imputed datasets\n",
    "common_boruta = boruta_mm_knn_df_filtered.columns.intersection(boruta_median_df_filtered.columns)"
   ]
  },
  {
   "cell_type": "code",
   "execution_count": null,
   "metadata": {
    "scrolled": true
   },
   "outputs": [],
   "source": [
    "print(\"Common features selected by Boruta for both median/knn imputed datasets: \", len(common_boruta))"
   ]
  },
  {
   "cell_type": "markdown",
   "metadata": {},
   "source": [
    "### 1.7. HANDLING IMBALANCE IN DATA"
   ]
  },
  {
   "cell_type": "markdown",
   "metadata": {},
   "source": [
    "#### 1.7.1 SMOTE Balancing"
   ]
  },
  {
   "cell_type": "markdown",
   "metadata": {},
   "source": [
    "SMOTE by default makes minority class equal to majority class. We are using default values for SMOTE object."
   ]
  },
  {
   "cell_type": "code",
   "execution_count": null,
   "metadata": {},
   "outputs": [],
   "source": [
    "# Instantiating smote object\n",
    "smt = SMOTE()"
   ]
  },
  {
   "cell_type": "code",
   "execution_count": null,
   "metadata": {},
   "outputs": [],
   "source": [
    "# SMOTE Balancing median imputed feature selected datasets\n",
    "median_impute_smote_balanced_train_features, median_impute_smote_balanced_train_label = smt.fit_sample(boruta_median_df_filtered, y_train.values.ravel())\n",
    "\n",
    "# SMOTE Balancing Normalized knn imputed feature selected datasets\n",
    "mm_scaled_knn_impute_smote_balanced_train_features, mm_scaled_knn_impute_smote_balanced_train_label = smt.fit_sample(boruta_mm_knn_df_filtered, y_train.values.ravel())"
   ]
  },
  {
   "cell_type": "markdown",
   "metadata": {},
   "source": [
    "#### 1.7.2 ADASYN Balancing"
   ]
  },
  {
   "cell_type": "markdown",
   "metadata": {},
   "source": [
    "Since ADASYN is an improved version of SMOTE, it calculates how many minority class cases are needed to balance the dataset."
   ]
  },
  {
   "cell_type": "code",
   "execution_count": null,
   "metadata": {},
   "outputs": [],
   "source": [
    "ads = ADASYN()"
   ]
  },
  {
   "cell_type": "code",
   "execution_count": null,
   "metadata": {},
   "outputs": [],
   "source": [
    "# ADASYN Balancing median imputed feature selected datasets\n",
    "median_impute_adasyn_balanced_train_features, median_impute_adasyn_balanced_train_label = ads.fit_sample(boruta_median_df_filtered, y_train.values.ravel())\n",
    "\n",
    "# ADASYN Balancing Normalized knn imputed feature selected datasets\n",
    "mm_scaled_knn_impute_adasyn_balanced_train_features, mm_scaled_knn_impute_adasyn_balanced_train_label = ads.fit_sample(boruta_mm_knn_df_filtered, y_train.values.ravel())"
   ]
  },
  {
   "cell_type": "code",
   "execution_count": null,
   "metadata": {
    "scrolled": true
   },
   "outputs": [],
   "source": [
    "print(\"median before balancing (rows, features): \", boruta_median_df_filtered.shape)\n",
    "print(\"KNN mm before balancing (rows, features): \", boruta_mm_knn_df_filtered.shape)\n",
    "print(\"\")\n",
    "print(\"median after SMOTE balancing (rows, features): \", median_impute_smote_balanced_train_features.shape)\n",
    "print(\"KNN mm after SMOTE balancing (rows, features): \", mm_scaled_knn_impute_smote_balanced_train_features.shape)\n",
    "print(\"\")\n",
    "print(\"median after ADASYN balancing (rows, features): \", median_impute_adasyn_balanced_train_features.shape)\n",
    "print(\"KNN mm after ADASYN balancing (rows, features): \", mm_scaled_knn_impute_adasyn_balanced_train_features.shape)"
   ]
  },
  {
   "cell_type": "code",
   "execution_count": null,
   "metadata": {},
   "outputs": [],
   "source": [
    "print(\"Majority/ Minority Balance after SMOTE and ADASYN\")\n",
    "print(\"\")\n",
    "print(\"Median SMOTE: \", np.unique(median_impute_smote_balanced_train_label, return_counts=True)[1])\n",
    "\n",
    "print(\"KNN mm SMOTE: \", np.unique(mm_scaled_knn_impute_smote_balanced_train_label, return_counts=True)[1])\n",
    "\n",
    "print(\"Median ADASYN: \", np.unique(median_impute_adasyn_balanced_train_label, return_counts=True)[1])\n",
    "\n",
    "print(\"KNN mm ADASYN: \", np.unique(mm_scaled_knn_impute_adasyn_balanced_train_label, return_counts=True)[1])"
   ]
  },
  {
   "cell_type": "code",
   "execution_count": null,
   "metadata": {},
   "outputs": [],
   "source": [
    "# Converting balanced datasets to dataframe and preserving original feature numbers\n",
    "# (fit_sample from SMOTE and ADASYN returns numpy array)\n",
    "\n",
    "# <------------------------------Median---------------------------------->\n",
    "median_impute_smote_balanced_train_features = pd.DataFrame(median_impute_smote_balanced_train_features)\n",
    "median_impute_smote_balanced_train_label = pd.DataFrame(median_impute_smote_balanced_train_label)\n",
    "\n",
    "median_impute_adasyn_balanced_train_features = pd.DataFrame(median_impute_adasyn_balanced_train_features)\n",
    "median_impute_adasyn_balanced_train_label = pd.DataFrame(median_impute_adasyn_balanced_train_label)\n",
    "\n",
    "# Renaming columns to preserve feature numbers\n",
    "median_impute_smote_balanced_train_features.columns = boruta_median_df_filtered.columns\n",
    "median_impute_smote_balanced_train_label.columns = complete_data_with_const_features_and_null_removed.columns[:1]\n",
    "\n",
    "median_impute_adasyn_balanced_train_features.columns = boruta_median_df_filtered.columns\n",
    "median_impute_adasyn_balanced_train_label.columns = complete_data_with_const_features_and_null_removed.columns[:1]\n",
    "\n",
    "# <------------------------------- KNN ----------------------------------->\n",
    "mm_scaled_knn_impute_smote_balanced_train_features = pd.DataFrame(mm_scaled_knn_impute_smote_balanced_train_features)\n",
    "mm_scaled_knn_impute_smote_balanced_train_label = pd.DataFrame(mm_scaled_knn_impute_smote_balanced_train_label)\n",
    "\n",
    "mm_scaled_knn_impute_adasyn_balanced_train_features = pd.DataFrame(mm_scaled_knn_impute_adasyn_balanced_train_features)\n",
    "mm_scaled_knn_impute_adasyn_balanced_train_label = pd.DataFrame(mm_scaled_knn_impute_adasyn_balanced_train_label)\n",
    "\n",
    "# Renaming columns to preserve feature numbers\n",
    "mm_scaled_knn_impute_smote_balanced_train_features.columns = boruta_mm_knn_df_filtered.columns\n",
    "mm_scaled_knn_impute_smote_balanced_train_label.columns = complete_data_with_const_features_and_null_removed.columns[:1]\n",
    "\n",
    "mm_scaled_knn_impute_adasyn_balanced_train_features.columns = boruta_mm_knn_df_filtered.columns\n",
    "mm_scaled_knn_impute_adasyn_balanced_train_label.columns = complete_data_with_const_features_and_null_removed.columns[:1]\n"
   ]
  },
  {
   "cell_type": "markdown",
   "metadata": {},
   "source": [
    "## 2. TRAINING AND EVALUATING DIFFERENT MODELS"
   ]
  },
  {
   "cell_type": "markdown",
   "metadata": {},
   "source": [
    "### 2.1. Helper function for model evaluation"
   ]
  },
  {
   "cell_type": "code",
   "execution_count": null,
   "metadata": {},
   "outputs": [],
   "source": [
    "# Helper function for calculating model performance\n",
    "def modelEvaluation(y_pred, model_heading=\"Model: \"):\n",
    "    average_precision = average_precision_score(y_test, y_pred)\n",
    "    precision = precision_score(y_test, y_pred)\n",
    "    recall = recall_score(y_test, y_pred)\n",
    "    f1 = f1_score(y_test, y_pred)\n",
    "    cm = confusion_matrix(y_test, y_pred, labels=[-1, 1])\n",
    "\n",
    "#     Model evaluation metrics\n",
    "    print(model_heading)\n",
    "    print(\"average_precision: {:0.2f}\".format(average_precision))\n",
    "    print(\"precision: {:0.2f}\".format(precision))\n",
    "    print(\"recall: {:0.2f}\".format(recall))\n",
    "    print(\"f1: {:0.2f}\".format(f1))\n",
    "    print(\"cm: \", cm)\n",
    "    tn, fp, fn, tp = confusion_matrix(y_test, y_pred, labels=[-1, 1]).ravel()\n",
    "    print(\"tn, fp, fn, tp: \", tn, fp, fn, tp)\n",
    "    \n",
    "    Accuracy = (tn + tp)*100/(tp + tn + fp + fn) \n",
    "    print(\"Accuracy {:0.2f}%\".format(Accuracy))\n",
    "    print(\"True Negative Rate: {:0.2f}\".format(tn/(tn + fp)))\n",
    "    print(\"Area Under The ROC Curve: {:0.2f}\".format(roc_auc_score(y_test, y_pred)))\n",
    "\n",
    "    print(\"\")\n",
    "    \n",
    "    # calculate roc curve\n",
    "    fpr, tpr, thresholds = roc_curve(y_test, y_pred)\n",
    "    # plot no skill\n",
    "    plt.plot([0, 1], [0, 1], linestyle='--')\n",
    "    # plot the roc curve for the model\n",
    "    plt.plot(fpr, tpr, marker='.')\n",
    "    # show the plot\n",
    "    plt.xlabel('FPR')\n",
    "    plt.ylabel('TPR')\n",
    "    plt.title(\"ROC Curve\")\n",
    "    plt.show()\n",
    "    \n",
    "#     Plotting precision, recall curve\n",
    "    precision, recall, _ = precision_recall_curve(y_test, y_pred)\n",
    "\n",
    "    plt.step(recall, precision, color='b', alpha=0.2,\n",
    "             where='post')\n",
    "    plt.fill_between(recall, precision, alpha=0.2, color='b')\n",
    "\n",
    "    plt.xlabel('Recall')\n",
    "    plt.ylabel('Precision')\n",
    "    plt.ylim([0.0, 1.05])\n",
    "    plt.xlim([0.0, 1.0])\n",
    "    plt.title('2-class Precision-Recall curve: AP={0:0.2f}'.format(\n",
    "              average_precision))\n",
    "    plt.show();\n",
    "    print(\"\")"
   ]
  },
  {
   "cell_type": "markdown",
   "metadata": {},
   "source": [
    "### 2.2. Random Forest Classifier before feature selection"
   ]
  },
  {
   "cell_type": "markdown",
   "metadata": {},
   "source": [
    "This is done in order to compare how feature selection is affecting the overall evaluation metrics."
   ]
  },
  {
   "cell_type": "markdown",
   "metadata": {},
   "source": [
    "#### 2.2.1 Training"
   ]
  },
  {
   "cell_type": "code",
   "execution_count": null,
   "metadata": {},
   "outputs": [],
   "source": [
    "# Training Random Forest Classifier on 444 features to compare it later after feature selection\n",
    "\n",
    "# <------------------------------Median---------------------------------->\n",
    "\n",
    "# RF classifier for median imputed dataset\n",
    "rf_model_median_imputed = RandomForestClassifier(n_estimators=100, class_weight=\"balanced\", max_depth=1, random_state=10)\n",
    "rf_model_median_imputed.fit(median_imputation_train_features, y_train.values.ravel())\n",
    "\n",
    "\n",
    "# <------------------------------KNN---------------------------------->\n",
    "\n",
    "# RF classifier for KNN imputed -> Normalized\n",
    "rf_model_mm_scaled_knn_imputed = RandomForestClassifier(n_estimators=100, class_weight=\"balanced\", max_depth=1, random_state=10)\n",
    "rf_model_mm_scaled_knn_imputed.fit(mm_scaled_knn_impute_train_features, y_train.values.ravel())\n",
    "print(\"\")"
   ]
  },
  {
   "cell_type": "code",
   "execution_count": null,
   "metadata": {},
   "outputs": [],
   "source": [
    "# Predictions using the RF Model built in the previous step\n",
    "\n",
    "# <------------------------------Median---------------------------------->\n",
    "rf_predict_median_test_feat = rf_model_median_imputed.predict(median_imputation_test_features)\n",
    "\n",
    "\n",
    "# <------------------------------KNN---------------------------------->\n",
    "rf_predict_knn_mm_test_feat = rf_model_mm_scaled_knn_imputed.predict(mm_scaled_knn_impute_test_features)"
   ]
  },
  {
   "cell_type": "markdown",
   "metadata": {},
   "source": [
    "#### 2.2.2 Evaluating"
   ]
  },
  {
   "cell_type": "code",
   "execution_count": null,
   "metadata": {},
   "outputs": [],
   "source": [
    "# Model Evaluation of Random Forest before feature selection\n",
    "\n",
    "# <------------------------------Median---------------------------------->\n",
    "modelEvaluation(rf_predict_median_test_feat, \"Median Imputed RF without feature selection and Balancing: \")\n",
    "\n",
    "# <------------------------------KNN---------------------------------->\n",
    "# --- Min/Max Scaled ---\n",
    "modelEvaluation(rf_predict_knn_mm_test_feat, \"Normalized KNN imputed RF without feature selection and Balancing: \")"
   ]
  },
  {
   "cell_type": "markdown",
   "metadata": {},
   "source": [
    "### 2.3. RF classifier on selected features"
   ]
  },
  {
   "cell_type": "markdown",
   "metadata": {},
   "source": [
    "#### 2.3.1 Training"
   ]
  },
  {
   "cell_type": "code",
   "execution_count": null,
   "metadata": {},
   "outputs": [],
   "source": [
    "def rfClassifierObject(n_estimators=100, class_weight=\"balanced\", max_depth=1):\n",
    "#     Initiate RF Object for all 4 combinations\n",
    "    rf_median_smt_filtered = RandomForestClassifier(n_estimators=n_estimators, class_weight=class_weight, max_depth=max_depth, random_state=10)\n",
    "    rf_median_ads_filtered = RandomForestClassifier(n_estimators=n_estimators, class_weight=class_weight, max_depth=max_depth, random_state=10)\n",
    "    \n",
    "    rf_mm_knn_smt_filtered = RandomForestClassifier(n_estimators=n_estimators, class_weight=class_weight, max_depth=max_depth, random_state=10)\n",
    "    rf_mm_knn_ads_filtered = RandomForestClassifier(n_estimators=n_estimators, class_weight=class_weight, max_depth=max_depth, random_state=10)\n",
    "    \n",
    "#     Fitting and predicing using instantiated object\n",
    "    y_pred_rf_med_smt = rf_median_smt_filtered.fit(median_impute_smote_balanced_train_features, median_impute_smote_balanced_train_label.values.ravel()).predict(median_imputation_test_features[boruta_median_df_filtered.columns])\n",
    "    y_pred_rf_med_ads = rf_median_ads_filtered.fit(median_impute_adasyn_balanced_train_features, median_impute_adasyn_balanced_train_label.values.ravel()).predict(median_imputation_test_features[boruta_median_df_filtered.columns])\n",
    "    \n",
    "    y_pred_rf_mm_knn_smt = rf_mm_knn_smt_filtered.fit(mm_scaled_knn_impute_smote_balanced_train_features, mm_scaled_knn_impute_smote_balanced_train_label.values.ravel()).predict(mm_scaled_knn_impute_test_features[boruta_mm_knn_df_filtered.columns])\n",
    "    y_pred_rf_mm_knn_ads = rf_mm_knn_ads_filtered.fit(mm_scaled_knn_impute_adasyn_balanced_train_features, mm_scaled_knn_impute_adasyn_balanced_train_label.values.ravel()).predict(mm_scaled_knn_impute_test_features[boruta_mm_knn_df_filtered.columns])\n",
    "    \n",
    "    return y_pred_rf_med_smt, y_pred_rf_mm_knn_smt, y_pred_rf_med_ads, y_pred_rf_mm_knn_ads"
   ]
  },
  {
   "cell_type": "markdown",
   "metadata": {},
   "source": [
    "#### 2.3.2 Evaluating"
   ]
  },
  {
   "cell_type": "code",
   "execution_count": null,
   "metadata": {},
   "outputs": [],
   "source": [
    "# Evaluating each RF after feature selection\n",
    "modelEvaluation(rfClassifierObject(100, \"balanced\")[0], \"Median Imputed SMOTE RF after feature selection(Boruta): \")\n",
    "modelEvaluation(rfClassifierObject(100, \"balanced\")[1], \"Normalized KNN imputed RF SMOTE after feature selection(Boruta): \")\n",
    "\n",
    "modelEvaluation(rfClassifierObject(100, \"balanced\")[2], \"Median Imputed ADASYN RF after feature selection(Boruta): \")\n",
    "modelEvaluation(rfClassifierObject(100, \"balanced\")[3], \"Normalized KNN imputed ADASYN RF after feature selection(Boruta): \")"
   ]
  },
  {
   "cell_type": "markdown",
   "metadata": {},
   "source": [
    "### 2.4 SVM classifier on selected features"
   ]
  },
  {
   "cell_type": "markdown",
   "metadata": {},
   "source": [
    "#### 2.4.1 Training"
   ]
  },
  {
   "cell_type": "code",
   "execution_count": null,
   "metadata": {},
   "outputs": [],
   "source": [
    "# instantiating Support Vector Machine Classifier\n",
    "# On SMOTE Balanced Dataset\n",
    "svm_md_smt = SVC(kernel='sigmoid', gamma='auto', probability=True, random_state=10)\n",
    "svm_mm_knn_smt = SVC(kernel='sigmoid', gamma='auto', probability=True, random_state=10)\n",
    "\n",
    "# On ADASYN Balanced Dataset\n",
    "svm_md_ads = SVC(kernel='sigmoid', gamma='auto', probability=True, random_state=10)\n",
    "svm_mm_knn_ads = SVC(kernel='sigmoid', gamma='auto', probability=True, random_state=10)\n",
    "\n",
    "# Fitting and predicting on SMOTE balanced\n",
    "y_pred_svm_med_smt = svm_md_smt.fit(median_impute_smote_balanced_train_features, median_impute_smote_balanced_train_label.values.ravel()).predict(median_imputation_test_features[boruta_median_df_filtered.columns])\n",
    "y_pred_svm_mm_knn_smt = svm_mm_knn_smt.fit(mm_scaled_knn_impute_smote_balanced_train_features, mm_scaled_knn_impute_smote_balanced_train_label.values.ravel()).predict(mm_scaled_knn_impute_test_features[boruta_mm_knn_df_filtered.columns])\n",
    "\n",
    "# Fitting and predicting on ADASYN balanced\n",
    "y_pred_svm_med_ads = svm_md_ads.fit(median_impute_adasyn_balanced_train_features, median_impute_adasyn_balanced_train_label.values.ravel()).predict(median_imputation_test_features[boruta_median_df_filtered.columns])\n",
    "y_pred_svm_mm_knn_ads = svm_mm_knn_ads.fit(mm_scaled_knn_impute_adasyn_balanced_train_features, mm_scaled_knn_impute_adasyn_balanced_train_label.values.ravel()).predict(mm_scaled_knn_impute_test_features[boruta_mm_knn_df_filtered.columns])\n"
   ]
  },
  {
   "cell_type": "markdown",
   "metadata": {},
   "source": [
    "#### 2.4.2 Evaluating"
   ]
  },
  {
   "cell_type": "code",
   "execution_count": null,
   "metadata": {},
   "outputs": [],
   "source": [
    "# Model Evaluation\n",
    "# SMOTE\n",
    "modelEvaluation(y_pred_svm_med_smt, \"Median Imputed SMOTE SVM after feature selection(Boruta): \")\n",
    "modelEvaluation(y_pred_svm_mm_knn_smt, \"Normalized KNN imputed SMOTE SVM after feature selection(Boruta): \")\n",
    "\n",
    "# ADASYN\n",
    "modelEvaluation(y_pred_svm_med_ads, \"Median Imputed ADASYN SVM after feature selection(Boruta): \")\n",
    "modelEvaluation(y_pred_svm_mm_knn_ads, \"Normalized KNN imputed ADASYN SVM after feature selection(Boruta): \")"
   ]
  },
  {
   "cell_type": "markdown",
   "metadata": {},
   "source": [
    "## 3. GRID SEARCH"
   ]
  },
  {
   "cell_type": "markdown",
   "metadata": {},
   "source": [
    "### 3.1. Random Forest"
   ]
  },
  {
   "cell_type": "code",
   "execution_count": null,
   "metadata": {},
   "outputs": [],
   "source": [
    "param = {'n_estimators': [50],\n",
    "        'min_samples_split': [2, 3, 4, 5],\n",
    "        'min_samples_leaf': [0.1, 0.2, 0.3, 0.5],\n",
    "        'max_depth': [1, 2, 3],\n",
    "        'max_features': ('auto', 'sqrt', 'log2')}\n",
    "\n",
    "\n",
    "rf_md = RandomForestClassifier(random_state=10)\n",
    "rf_mm_knn = RandomForestClassifier(random_state=10)\n",
    "\n",
    "rfGS_md_smt = GridSearchCV(rf_md, param, cv=5)\n",
    "rfGS_mm_knn_smt = GridSearchCV(rf_mm_knn, param, cv=5)\n",
    "rfGS_md_ads = GridSearchCV(rf_md, param, cv=5)\n",
    "rfGS_mm_knn_ads = GridSearchCV(rf_mm_knn, param, cv=5)\n",
    "\n",
    "y_pred_rfGS_med_smt = rfGS_md_smt.fit(median_impute_smote_balanced_train_features, median_impute_smote_balanced_train_label.values.ravel()).predict(median_imputation_test_features[boruta_median_df_filtered.columns])\n",
    "y_pred_rfGS_med_ads = rfGS_md_ads.fit(median_impute_adasyn_balanced_train_features, median_impute_adasyn_balanced_train_label.values.ravel()).predict(median_imputation_test_features[boruta_median_df_filtered.columns])\n",
    "\n",
    "y_pred_rfGS_mm_knn_smt = rfGS_mm_knn_smt.fit(mm_scaled_knn_impute_smote_balanced_train_features, mm_scaled_knn_impute_smote_balanced_train_label.values.ravel()).predict(mm_scaled_knn_impute_test_features[boruta_mm_knn_df_filtered.columns])\n",
    "y_pred_rfGS_mm_knn_ads = rfGS_mm_knn_ads.fit(mm_scaled_knn_impute_adasyn_balanced_train_features, mm_scaled_knn_impute_adasyn_balanced_train_label.values.ravel()).predict(mm_scaled_knn_impute_test_features[boruta_mm_knn_df_filtered.columns])\n"
   ]
  },
  {
   "cell_type": "code",
   "execution_count": null,
   "metadata": {},
   "outputs": [],
   "source": [
    "# Model Evaluation\n",
    "# SMOTE\n",
    "modelEvaluation(y_pred_rfGS_med_smt, \"Tuned Median Imputed SMOTE RF after feature selection(Boruta): \")\n",
    "modelEvaluation(y_pred_rfGS_mm_knn_smt, \"Tuned Normalized KNN imputed SMOTE RF after feature selection(Boruta): \")\n",
    "\n",
    "# ADASYN\n",
    "modelEvaluation(y_pred_rfGS_med_ads, \"Tuned Median Imputed ADASYN RF after feature selection(Boruta): \")\n",
    "modelEvaluation(y_pred_rfGS_mm_knn_ads, \"Tuned Normalized KNN imputed ADASYN RF after feature selection(Boruta): \")"
   ]
  },
  {
   "cell_type": "markdown",
   "metadata": {},
   "source": [
    "### 3.2. SVM"
   ]
  },
  {
   "cell_type": "code",
   "execution_count": null,
   "metadata": {},
   "outputs": [],
   "source": [
    "# Commenting it out because it takes hours to run, the results are in the presentation\n",
    "\n",
    "# param = {\n",
    "#     'C': [1, 10, 100], \n",
    "#     'kernel': ['rbf', 'linear', 'sigmoid'],\n",
    "#     'probability': [True, False],\n",
    "#     'gamma': ['scale']\n",
    "#     }\n",
    "\n",
    "\n",
    "# svc_md = SVC()\n",
    "# svc_mm_knn = SVC()\n",
    "\n",
    "# svcGS_md_smt = GridSearchCV(svc_md, param, cv=5)\n",
    "# svcGS_mm_knn_smt = GridSearchCV(svc_mm_knn, param, cv=5)\n",
    "# svcGS_md_ads = GridSearchCV(svc_md, param, cv=5)\n",
    "# svcGS_mm_knn_ads = GridSearchCV(svc_mm_knn, param, cv=5)\n",
    "\n",
    "# y_pred_svcGS_med_smt = svcGS_md_smt.fit(median_impute_smote_balanced_train_features, median_impute_smote_balanced_train_label.values.ravel()).predict(median_imputation_test_features[boruta_median_df_filtered.columns])\n",
    "# y_pred_svcGS_med_ads = svcGS_md_ads.fit(median_impute_adasyn_balanced_train_features, median_impute_adasyn_balanced_train_label.values.ravel()).predict(median_imputation_test_features[boruta_median_df_filtered.columns])\n",
    "\n",
    "# y_pred_svcGS_mm_knn_smt = svcGS_mm_knn_smt.fit(mm_scaled_knn_impute_smote_balanced_train_features, mm_scaled_knn_impute_smote_balanced_train_label.values.ravel()).predict(mm_scaled_knn_impute_test_features[boruta_mm_knn_df_filtered.columns])\n",
    "# y_pred_svcGS_mm_knn_ads = svcGS_mm_knn_ads.fit(mm_scaled_knn_impute_adasyn_balanced_train_features, mm_scaled_knn_impute_adasyn_balanced_train_label.values.ravel()).predict(mm_scaled_knn_impute_test_features[boruta_mm_knn_df_filtered.columns])\n",
    "\n",
    "# # Model Evaluation\n",
    "# # SMOTE\n",
    "# modelEvaluation(y_pred_svcGS_med_smt, \"Tuned Median Imputed SMOTE SVM after feature selection(Boruta): \")\n",
    "# modelEvaluation(y_pred_svcGS_mm_knn_smt, \"Tuned Median Imputed SMOTE SVM after feature selection(Boruta): \")\n",
    "\n",
    "\n",
    "# # ADASYN\n",
    "# modelEvaluation(y_pred_svcGS_med_ads, \"Tuned Normalized KNN imputed ADASYN SVM after feature selection(Boruta): \")\n",
    "# modelEvaluation(y_pred_svcGS_mm_knn_ads, \"Tuned Normalized KNN imputed ADASYN SVM after feature selection(Boruta): \")"
   ]
  }
 ],
 "metadata": {
  "kernelspec": {
   "display_name": "Python 3",
   "language": "python",
   "name": "python3"
  },
  "language_info": {
   "codemirror_mode": {
    "name": "ipython",
    "version": 3
   },
   "file_extension": ".py",
   "mimetype": "text/x-python",
   "name": "python",
   "nbconvert_exporter": "python",
   "pygments_lexer": "ipython3",
   "version": "3.7.3"
  }
 },
 "nbformat": 4,
 "nbformat_minor": 2
}
