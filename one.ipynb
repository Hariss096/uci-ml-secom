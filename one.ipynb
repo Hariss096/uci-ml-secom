{
 "cells": [
  {
   "cell_type": "code",
   "execution_count": 101,
   "metadata": {},
   "outputs": [],
   "source": "\nfrom pyspark.sql.functions import *\nfrom pyspark.sql.types import *\nfrom pyspark.ml.feature import OneHotEncoderEstimator, StringIndexer\nfrom pyspark.ml.regression import LinearRegression\nfrom pyspark.ml.feature import VectorAssembler\nimport seaborn as sns"
  },
  {
   "cell_type": "code",
   "execution_count": 1,
   "metadata": {},
   "outputs": [
    {
     "data": {
      "text/html": "\n        <div>\n            <p><b>SparkContext</b></p>\n\n            <p><a href=\"http://10.0.2.15:4040\">Spark UI</a></p>\n\n            <dl>\n              <dt>Version</dt>\n                <dd><code>v2.4.4</code></dd>\n              <dt>Master</dt>\n                <dd><code>local[*]</code></dd>\n              <dt>AppName</dt>\n                <dd><code>PySparkShell</code></dd>\n            </dl>\n        </div>\n        ",
      "text/plain": "<SparkContext master=local[*] appName=PySparkShell>"
     },
     "execution_count": 1,
     "metadata": {},
     "output_type": "execute_result"
    }
   ],
   "source": "sc"
  },
  {
   "cell_type": "code",
   "execution_count": 2,
   "metadata": {},
   "outputs": [
    {
     "name": "stdout",
     "output_type": "stream",
     "text": "20660 NodeManager\n21028 DataNode\n21221 JobHistoryServer\n8790 Jps\n20602 ResourceManager\n8717 SparkSubmit\n20719 NameNode\n"
    }
   ],
   "source": "!jps"
  },
  {
   "cell_type": "markdown",
   "metadata": {},
   "source": "### Import files from hdfs\n\n-Import the files into hdfs"
  },
  {
   "cell_type": "code",
   "execution_count": 32,
   "metadata": {},
   "outputs": [],
   "source": "#Using one day file\n\nPyspark =spark.read.format(\"com.databricks.spark.csv\")\\\n        .option(\"header\",\"true\")\\\n        .option(\"inferSchema\",\"true\")\\\n        .load(\"hdfs://localhost:8020/user/htw/pyspark1/2020-01-13.csv\")"
  },
  {
   "cell_type": "markdown",
   "metadata": {},
   "source": "### Schema\n\nSet the schema - it should refer to the variable names on the webpage from RStudio"
  },
  {
   "cell_type": "code",
   "execution_count": 33,
   "metadata": {},
   "outputs": [],
   "source": "# some additional functions\n"
  },
  {
   "cell_type": "code",
   "execution_count": 34,
   "metadata": {},
   "outputs": [],
   "source": "# seting the schema! StructType-command\nschema_PySpark = StructType([\n    StructField(\"date\", DateType(), True),\n    StructField(\"time\", StringType(), True),\n    StructField(\"size\", IntegerType(), True),\n    StructField(\"r_version\", StringType(), True),\n    StructField(\"r_arch\", StringType(), True),\n    StructField(\"r_os\", StringType(), True),\n    StructField(\"package\", StringType(), True),\n    StructField(\"version\", StringType(), True),\n    StructField(\"country\", StringType(), True),\n    StructField(\"ip_id\", IntegerType(), True)])"
  },
  {
   "cell_type": "code",
   "execution_count": 43,
   "metadata": {},
   "outputs": [],
   "source": "#Import the data using the schema\n\nSpark_SQL = spark.read.format(\"com.databricks.spark.csv\")\\\n            .option(\"header\",\"true\")\\\n            .option(\"inferSchema\",\"true\")\\\n            .schema(schema_PySpark)\\\n            .load(\"hdfs://localhost:8020/user/htw/pyspark1/2020-01-13.csv\")"
  },
  {
   "cell_type": "code",
   "execution_count": 44,
   "metadata": {
    "scrolled": false
   },
   "outputs": [
    {
     "name": "stdout",
     "output_type": "stream",
     "text": "+----------+--------+-------+---------+------+----+--------+-------+-------+-----+\n|      date|    time|   size|r_version|r_arch|r_os| package|version|country|ip_id|\n+----------+--------+-------+---------+------+----+--------+-------+-------+-----+\n|2020-01-13|13:32:48| 861839|       NA|    NA|  NA|     zoo|  1.8-7|     US|    1|\n|2020-01-13|13:32:39|1132886|       NA|    NA|  NA|      sp|  1.3-2|     US|    2|\n|2020-01-13|13:32:32|  84011|       NA|    NA|  NA|lazyeval|  0.2.2|     NL|    3|\n|2020-01-13|13:32:35| 143855|       NA|    NA|  NA|  digest| 0.6.23|     NL|    3|\n|2020-01-13|13:32:53|1036570|       NA|    NA|  NA|    pROC| 1.15.3|     GB|    4|\n+----------+--------+-------+---------+------+----+--------+-------+-------+-----+\nonly showing top 5 rows\n\n"
    }
   ],
   "source": "Spark_SQL.show(5)"
  },
  {
   "cell_type": "code",
   "execution_count": 45,
   "metadata": {},
   "outputs": [
    {
     "data": {
      "text/plain": "4755602"
     },
     "execution_count": 45,
     "metadata": {},
     "output_type": "execute_result"
    }
   ],
   "source": "Spark_SQL.count()"
  },
  {
   "cell_type": "code",
   "execution_count": 46,
   "metadata": {
    "scrolled": false
   },
   "outputs": [
    {
     "name": "stdout",
     "output_type": "stream",
     "text": "root\n |-- date: date (nullable = true)\n |-- time: string (nullable = true)\n |-- size: integer (nullable = true)\n |-- r_version: string (nullable = true)\n |-- r_arch: string (nullable = true)\n |-- r_os: string (nullable = true)\n |-- package: string (nullable = true)\n |-- version: string (nullable = true)\n |-- country: string (nullable = true)\n |-- ip_id: integer (nullable = true)\n\n"
    }
   ],
   "source": "Spark_SQL.printSchema()"
  },
  {
   "cell_type": "markdown",
   "metadata": {},
   "source": "### Spark SQL\nRegister the dataset as Spark SQL"
  },
  {
   "cell_type": "code",
   "execution_count": 50,
   "metadata": {},
   "outputs": [],
   "source": "Spark_SQL.createOrReplaceTempView(\"Spark_SQL\")"
  },
  {
   "cell_type": "code",
   "execution_count": 52,
   "metadata": {},
   "outputs": [
    {
     "name": "stdout",
     "output_type": "stream",
     "text": "+----------+--------+-------+---------+------+----+--------+-------+-------+-----+\n|      date|    time|   size|r_version|r_arch|r_os| package|version|country|ip_id|\n+----------+--------+-------+---------+------+----+--------+-------+-------+-----+\n|2020-01-13|13:32:48| 861839|       NA|    NA|  NA|     zoo|  1.8-7|     US|    1|\n|2020-01-13|13:32:39|1132886|       NA|    NA|  NA|      sp|  1.3-2|     US|    2|\n|2020-01-13|13:32:32|  84011|       NA|    NA|  NA|lazyeval|  0.2.2|     NL|    3|\n|2020-01-13|13:32:35| 143855|       NA|    NA|  NA|  digest| 0.6.23|     NL|    3|\n|2020-01-13|13:32:53|1036570|       NA|    NA|  NA|    pROC| 1.15.3|     GB|    4|\n+----------+--------+-------+---------+------+----+--------+-------+-------+-----+\n\n"
    }
   ],
   "source": "#Use a SELECT statement to print out the first 5 rows\nspark.sql(\"SELECT * FROM Spark_SQL LIMIT 5\").show()"
  },
  {
   "cell_type": "code",
   "execution_count": 51,
   "metadata": {},
   "outputs": [],
   "source": "Spark_SQL_prep = spark.sql(\"select date,package from Spark_SQL\")"
  },
  {
   "cell_type": "markdown",
   "metadata": {},
   "source": "## Data Understanding\nSome First command to inspect the file"
  },
  {
   "cell_type": "code",
   "execution_count": 53,
   "metadata": {},
   "outputs": [
    {
     "data": {
      "text/plain": "DataFrame[date: date, time: string, size: int, r_version: string, r_arch: string, r_os: string, package: string, version: string, country: string, ip_id: int]"
     },
     "execution_count": 53,
     "metadata": {},
     "output_type": "execute_result"
    }
   ],
   "source": "Spark_SQL"
  },
  {
   "cell_type": "code",
   "execution_count": 54,
   "metadata": {
    "scrolled": true
   },
   "outputs": [
    {
     "data": {
      "text/plain": "pyspark.sql.dataframe.DataFrame"
     },
     "execution_count": 54,
     "metadata": {},
     "output_type": "execute_result"
    }
   ],
   "source": "type(Spark_SQL)"
  },
  {
   "cell_type": "markdown",
   "metadata": {},
   "source": "## Data Preparation\nStore only required columns in dataframe"
  },
  {
   "cell_type": "code",
   "execution_count": 55,
   "metadata": {
    "scrolled": true
   },
   "outputs": [
    {
     "name": "stderr",
     "output_type": "stream",
     "text": "ERROR:root:Exception while sending command.\nTraceback (most recent call last):\n  File \"/usr/local/spark/python/lib/py4j-0.10.7-src.zip/py4j/java_gateway.py\", line 985, in send_command\n    response = connection.send_command(command)\n  File \"/usr/local/spark/python/lib/py4j-0.10.7-src.zip/py4j/java_gateway.py\", line 1164, in send_command\n    \"Error while receiving\", e, proto.ERROR_ON_RECEIVE)\nPy4JNetworkError: Error while receiving\nERROR:py4j.java_gateway:An error occurred while trying to connect to the Java server (127.0.0.1:33129)\nTraceback (most recent call last):\n  File \"/usr/local/spark/python/lib/py4j-0.10.7-src.zip/py4j/java_gateway.py\", line 1067, in start\n    self.socket.connect((self.address, self.port))\n  File \"/usr/lib/python2.7/socket.py\", line 228, in meth\n    return getattr(self._sock,name)(*args)\nerror: [Errno 111] Connection refused\nERROR:root:An unexpected error occurred while tokenizing input\nThe following traceback may be corrupted or invalid\nThe error message is: ('EOF in multi-line string', (1, 27))\n\n"
    },
    {
     "ename": "Py4JNetworkError",
     "evalue": "An error occurred while trying to connect to the Java server (127.0.0.1:33129)",
     "output_type": "error",
     "traceback": [
      "\u001b[0;31m---------------------------------------------------------------------------\u001b[0m",
      "\u001b[0;31mPy4JNetworkError\u001b[0m                          Traceback (most recent call last)",
      "\u001b[0;32m<ipython-input-55-0fb47c62a4bb>\u001b[0m in \u001b[0;36m<module>\u001b[0;34m()\u001b[0m\n\u001b[1;32m      1\u001b[0m \u001b[0;31m#Selecting required columns in dataframe\u001b[0m\u001b[0;34m\u001b[0m\u001b[0;34m\u001b[0m\u001b[0m\n\u001b[1;32m      2\u001b[0m df = spark.sql(\"\"\"SELECT date,package,country\n\u001b[0;32m----> 3\u001b[0;31m              FROM Spark_SQL\"\"\").toPandas()\n\u001b[0m",
      "\u001b[0;32m/usr/local/spark/python/pyspark/sql/dataframe.pyc\u001b[0m in \u001b[0;36mtoPandas\u001b[0;34m(self)\u001b[0m\n\u001b[1;32m   2141\u001b[0m \u001b[0;34m\u001b[0m\u001b[0m\n\u001b[1;32m   2142\u001b[0m         \u001b[0;31m# Below is toPandas without Arrow optimization.\u001b[0m\u001b[0;34m\u001b[0m\u001b[0;34m\u001b[0m\u001b[0m\n\u001b[0;32m-> 2143\u001b[0;31m         \u001b[0mpdf\u001b[0m \u001b[0;34m=\u001b[0m \u001b[0mpd\u001b[0m\u001b[0;34m.\u001b[0m\u001b[0mDataFrame\u001b[0m\u001b[0;34m.\u001b[0m\u001b[0mfrom_records\u001b[0m\u001b[0;34m(\u001b[0m\u001b[0mself\u001b[0m\u001b[0;34m.\u001b[0m\u001b[0mcollect\u001b[0m\u001b[0;34m(\u001b[0m\u001b[0;34m)\u001b[0m\u001b[0;34m,\u001b[0m \u001b[0mcolumns\u001b[0m\u001b[0;34m=\u001b[0m\u001b[0mself\u001b[0m\u001b[0;34m.\u001b[0m\u001b[0mcolumns\u001b[0m\u001b[0;34m)\u001b[0m\u001b[0;34m\u001b[0m\u001b[0m\n\u001b[0m\u001b[1;32m   2144\u001b[0m \u001b[0;34m\u001b[0m\u001b[0m\n\u001b[1;32m   2145\u001b[0m         \u001b[0mdtype\u001b[0m \u001b[0;34m=\u001b[0m \u001b[0;34m{\u001b[0m\u001b[0;34m}\u001b[0m\u001b[0;34m\u001b[0m\u001b[0m\n",
      "\u001b[0;32m/usr/local/spark/python/pyspark/sql/dataframe.pyc\u001b[0m in \u001b[0;36mcolumns\u001b[0;34m(self)\u001b[0m\n\u001b[1;32m    935\u001b[0m         \u001b[0;34m[\u001b[0m\u001b[0;34m'age'\u001b[0m\u001b[0;34m,\u001b[0m \u001b[0;34m'name'\u001b[0m\u001b[0;34m]\u001b[0m\u001b[0;34m\u001b[0m\u001b[0m\n\u001b[1;32m    936\u001b[0m         \"\"\"\n\u001b[0;32m--> 937\u001b[0;31m         \u001b[0;32mreturn\u001b[0m \u001b[0;34m[\u001b[0m\u001b[0mf\u001b[0m\u001b[0;34m.\u001b[0m\u001b[0mname\u001b[0m \u001b[0;32mfor\u001b[0m \u001b[0mf\u001b[0m \u001b[0;32min\u001b[0m \u001b[0mself\u001b[0m\u001b[0;34m.\u001b[0m\u001b[0mschema\u001b[0m\u001b[0;34m.\u001b[0m\u001b[0mfields\u001b[0m\u001b[0;34m]\u001b[0m\u001b[0;34m\u001b[0m\u001b[0m\n\u001b[0m\u001b[1;32m    938\u001b[0m \u001b[0;34m\u001b[0m\u001b[0m\n\u001b[1;32m    939\u001b[0m     \u001b[0;34m@\u001b[0m\u001b[0msince\u001b[0m\u001b[0;34m(\u001b[0m\u001b[0;36m2.3\u001b[0m\u001b[0;34m)\u001b[0m\u001b[0;34m\u001b[0m\u001b[0m\n",
      "\u001b[0;32m/usr/local/spark/python/pyspark/sql/dataframe.pyc\u001b[0m in \u001b[0;36mschema\u001b[0;34m(self)\u001b[0m\n\u001b[1;32m    253\u001b[0m         \u001b[0;32mif\u001b[0m \u001b[0mself\u001b[0m\u001b[0;34m.\u001b[0m\u001b[0m_schema\u001b[0m \u001b[0;32mis\u001b[0m \u001b[0mNone\u001b[0m\u001b[0;34m:\u001b[0m\u001b[0;34m\u001b[0m\u001b[0m\n\u001b[1;32m    254\u001b[0m             \u001b[0;32mtry\u001b[0m\u001b[0;34m:\u001b[0m\u001b[0;34m\u001b[0m\u001b[0m\n\u001b[0;32m--> 255\u001b[0;31m                 \u001b[0mself\u001b[0m\u001b[0;34m.\u001b[0m\u001b[0m_schema\u001b[0m \u001b[0;34m=\u001b[0m \u001b[0m_parse_datatype_json_string\u001b[0m\u001b[0;34m(\u001b[0m\u001b[0mself\u001b[0m\u001b[0;34m.\u001b[0m\u001b[0m_jdf\u001b[0m\u001b[0;34m.\u001b[0m\u001b[0mschema\u001b[0m\u001b[0;34m(\u001b[0m\u001b[0;34m)\u001b[0m\u001b[0;34m.\u001b[0m\u001b[0mjson\u001b[0m\u001b[0;34m(\u001b[0m\u001b[0;34m)\u001b[0m\u001b[0;34m)\u001b[0m\u001b[0;34m\u001b[0m\u001b[0m\n\u001b[0m\u001b[1;32m    256\u001b[0m             \u001b[0;32mexcept\u001b[0m \u001b[0mAttributeError\u001b[0m \u001b[0;32mas\u001b[0m \u001b[0me\u001b[0m\u001b[0;34m:\u001b[0m\u001b[0;34m\u001b[0m\u001b[0m\n\u001b[1;32m    257\u001b[0m                 raise Exception(\n",
      "\u001b[0;32m/usr/local/spark/python/lib/py4j-0.10.7-src.zip/py4j/java_gateway.py\u001b[0m in \u001b[0;36m__call__\u001b[0;34m(self, *args)\u001b[0m\n\u001b[1;32m   1253\u001b[0m             \u001b[0mproto\u001b[0m\u001b[0;34m.\u001b[0m\u001b[0mEND_COMMAND_PART\u001b[0m\u001b[0;34m\u001b[0m\u001b[0m\n\u001b[1;32m   1254\u001b[0m \u001b[0;34m\u001b[0m\u001b[0m\n\u001b[0;32m-> 1255\u001b[0;31m         \u001b[0manswer\u001b[0m \u001b[0;34m=\u001b[0m \u001b[0mself\u001b[0m\u001b[0;34m.\u001b[0m\u001b[0mgateway_client\u001b[0m\u001b[0;34m.\u001b[0m\u001b[0msend_command\u001b[0m\u001b[0;34m(\u001b[0m\u001b[0mcommand\u001b[0m\u001b[0;34m)\u001b[0m\u001b[0;34m\u001b[0m\u001b[0m\n\u001b[0m\u001b[1;32m   1256\u001b[0m         return_value = get_return_value(\n\u001b[1;32m   1257\u001b[0m             answer, self.gateway_client, self.target_id, self.name)\n",
      "\u001b[0;32m/usr/local/spark/python/lib/py4j-0.10.7-src.zip/py4j/java_gateway.py\u001b[0m in \u001b[0;36msend_command\u001b[0;34m(self, command, retry, binary)\u001b[0m\n\u001b[1;32m    981\u001b[0m          \u001b[0;32mif\u001b[0m \u001b[0;34m`\u001b[0m\u001b[0mbinary\u001b[0m\u001b[0;34m`\u001b[0m \u001b[0;32mis\u001b[0m \u001b[0;34m`\u001b[0m\u001b[0mTrue\u001b[0m\u001b[0;34m`\u001b[0m\u001b[0;34m.\u001b[0m\u001b[0;34m\u001b[0m\u001b[0m\n\u001b[1;32m    982\u001b[0m         \"\"\"\n\u001b[0;32m--> 983\u001b[0;31m         \u001b[0mconnection\u001b[0m \u001b[0;34m=\u001b[0m \u001b[0mself\u001b[0m\u001b[0;34m.\u001b[0m\u001b[0m_get_connection\u001b[0m\u001b[0;34m(\u001b[0m\u001b[0;34m)\u001b[0m\u001b[0;34m\u001b[0m\u001b[0m\n\u001b[0m\u001b[1;32m    984\u001b[0m         \u001b[0;32mtry\u001b[0m\u001b[0;34m:\u001b[0m\u001b[0;34m\u001b[0m\u001b[0m\n\u001b[1;32m    985\u001b[0m             \u001b[0mresponse\u001b[0m \u001b[0;34m=\u001b[0m \u001b[0mconnection\u001b[0m\u001b[0;34m.\u001b[0m\u001b[0msend_command\u001b[0m\u001b[0;34m(\u001b[0m\u001b[0mcommand\u001b[0m\u001b[0;34m)\u001b[0m\u001b[0;34m\u001b[0m\u001b[0m\n",
      "\u001b[0;32m/usr/local/spark/python/lib/py4j-0.10.7-src.zip/py4j/java_gateway.py\u001b[0m in \u001b[0;36m_get_connection\u001b[0;34m(self)\u001b[0m\n\u001b[1;32m    929\u001b[0m             \u001b[0mconnection\u001b[0m \u001b[0;34m=\u001b[0m \u001b[0mself\u001b[0m\u001b[0;34m.\u001b[0m\u001b[0mdeque\u001b[0m\u001b[0;34m.\u001b[0m\u001b[0mpop\u001b[0m\u001b[0;34m(\u001b[0m\u001b[0;34m)\u001b[0m\u001b[0;34m\u001b[0m\u001b[0m\n\u001b[1;32m    930\u001b[0m         \u001b[0;32mexcept\u001b[0m \u001b[0mIndexError\u001b[0m\u001b[0;34m:\u001b[0m\u001b[0;34m\u001b[0m\u001b[0m\n\u001b[0;32m--> 931\u001b[0;31m             \u001b[0mconnection\u001b[0m \u001b[0;34m=\u001b[0m \u001b[0mself\u001b[0m\u001b[0;34m.\u001b[0m\u001b[0m_create_connection\u001b[0m\u001b[0;34m(\u001b[0m\u001b[0;34m)\u001b[0m\u001b[0;34m\u001b[0m\u001b[0m\n\u001b[0m\u001b[1;32m    932\u001b[0m         \u001b[0;32mreturn\u001b[0m \u001b[0mconnection\u001b[0m\u001b[0;34m\u001b[0m\u001b[0m\n\u001b[1;32m    933\u001b[0m \u001b[0;34m\u001b[0m\u001b[0m\n",
      "\u001b[0;32m/usr/local/spark/python/lib/py4j-0.10.7-src.zip/py4j/java_gateway.py\u001b[0m in \u001b[0;36m_create_connection\u001b[0;34m(self)\u001b[0m\n\u001b[1;32m    935\u001b[0m         connection = GatewayConnection(\n\u001b[1;32m    936\u001b[0m             self.gateway_parameters, self.gateway_property)\n\u001b[0;32m--> 937\u001b[0;31m         \u001b[0mconnection\u001b[0m\u001b[0;34m.\u001b[0m\u001b[0mstart\u001b[0m\u001b[0;34m(\u001b[0m\u001b[0;34m)\u001b[0m\u001b[0;34m\u001b[0m\u001b[0m\n\u001b[0m\u001b[1;32m    938\u001b[0m         \u001b[0;32mreturn\u001b[0m \u001b[0mconnection\u001b[0m\u001b[0;34m\u001b[0m\u001b[0m\n\u001b[1;32m    939\u001b[0m \u001b[0;34m\u001b[0m\u001b[0m\n",
      "\u001b[0;32m/usr/local/spark/python/lib/py4j-0.10.7-src.zip/py4j/java_gateway.py\u001b[0m in \u001b[0;36mstart\u001b[0;34m(self)\u001b[0m\n\u001b[1;32m   1077\u001b[0m                 \u001b[0;34m\"server ({0}:{1})\"\u001b[0m\u001b[0;34m.\u001b[0m\u001b[0mformat\u001b[0m\u001b[0;34m(\u001b[0m\u001b[0mself\u001b[0m\u001b[0;34m.\u001b[0m\u001b[0maddress\u001b[0m\u001b[0;34m,\u001b[0m \u001b[0mself\u001b[0m\u001b[0;34m.\u001b[0m\u001b[0mport\u001b[0m\u001b[0;34m)\u001b[0m\u001b[0;34m\u001b[0m\u001b[0m\n\u001b[1;32m   1078\u001b[0m             \u001b[0mlogger\u001b[0m\u001b[0;34m.\u001b[0m\u001b[0mexception\u001b[0m\u001b[0;34m(\u001b[0m\u001b[0mmsg\u001b[0m\u001b[0;34m)\u001b[0m\u001b[0;34m\u001b[0m\u001b[0m\n\u001b[0;32m-> 1079\u001b[0;31m             \u001b[0;32mraise\u001b[0m \u001b[0mPy4JNetworkError\u001b[0m\u001b[0;34m(\u001b[0m\u001b[0mmsg\u001b[0m\u001b[0;34m,\u001b[0m \u001b[0me\u001b[0m\u001b[0;34m)\u001b[0m\u001b[0;34m\u001b[0m\u001b[0m\n\u001b[0m\u001b[1;32m   1080\u001b[0m \u001b[0;34m\u001b[0m\u001b[0m\n\u001b[1;32m   1081\u001b[0m     \u001b[0;32mdef\u001b[0m \u001b[0m_authenticate_connection\u001b[0m\u001b[0;34m(\u001b[0m\u001b[0mself\u001b[0m\u001b[0;34m)\u001b[0m\u001b[0;34m:\u001b[0m\u001b[0;34m\u001b[0m\u001b[0m\n",
      "\u001b[0;31mPy4JNetworkError\u001b[0m: An error occurred while trying to connect to the Java server (127.0.0.1:33129)"
     ]
    }
   ],
   "source": "#Selecting required columns in dataframe\ndf = spark.sql(\"\"\"SELECT date,package,country\n             FROM Spark_SQL\"\"\").toPandas()"
  },
  {
   "cell_type": "code",
   "execution_count": null,
   "metadata": {},
   "outputs": [],
   "source": ""
  },
  {
   "cell_type": "code",
   "execution_count": null,
   "metadata": {},
   "outputs": [],
   "source": ""
  },
  {
   "cell_type": "code",
   "execution_count": null,
   "metadata": {},
   "outputs": [],
   "source": ""
  },
  {
   "cell_type": "markdown",
   "metadata": {},
   "source": "### TASk3b"
  },
  {
   "cell_type": "code",
   "execution_count": 56,
   "metadata": {},
   "outputs": [
    {
     "name": "stdout",
     "output_type": "stream",
     "text": "20/02/19 20:30:22 WARN util.NativeCodeLoader: Unable to load native-hadoop library for your platform... using builtin-java classes where applicable\r\n"
    }
   ],
   "source": "#!hdfs dfs -mkdir /user/htw/Task3b"
  },
  {
   "cell_type": "code",
   "execution_count": 57,
   "metadata": {},
   "outputs": [
    {
     "name": "stdout",
     "output_type": "stream",
     "text": "20/02/19 20:30:36 WARN util.NativeCodeLoader: Unable to load native-hadoop library for your platform... using builtin-java classes where applicable\r\n"
    }
   ],
   "source": "#!hdfs dfs -put /home/htw/Downloads/LoanStats.csv /user/htw/Task3b"
  },
  {
   "cell_type": "code",
   "execution_count": 4,
   "metadata": {},
   "outputs": [],
   "source": "schema_loanstats = StructType([\n    StructField(\"int_rate\", FloatType(), True),\n    StructField(\"loan_amnt\", FloatType(), True),\n    StructField(\"term\", IntegerType(), True),\n    StructField(\"grade\", StringType(), True),\n    StructField(\"home_ownership\", StringType(), True),\n    StructField(\"annual_inc\", FloatType(), True),\n    StructField(\"purpose\", StringType(), True)])"
  },
  {
   "cell_type": "code",
   "execution_count": 5,
   "metadata": {},
   "outputs": [],
   "source": "loanstats = spark.read.format(\"com.databricks.spark.csv\")\\\n            .option(\"header\",\"true\")\\\n            .option(\"inferSchema\",\"true\")\\\n            .schema(schema_loanstats)\\\n            .load(\"hdfs://localhost:8020/user/htw/Task3b/LoanStats.csv\")"
  },
  {
   "cell_type": "code",
   "execution_count": 10,
   "metadata": {},
   "outputs": [],
   "source": "loanstats.createOrReplaceTempView(\"loanstats\")"
  },
  {
   "cell_type": "code",
   "execution_count": 11,
   "metadata": {},
   "outputs": [
    {
     "name": "stdout",
     "output_type": "stream",
     "text": "+--------+---------+----+-----+--------------+----------+--------------+\n|int_rate|loan_amnt|term|grade|home_ownership|annual_inc|       purpose|\n+--------+---------+----+-----+--------------+----------+--------------+\n|   10.65|   5000.0|  36|    B|          RENT|   24000.0|   credit_card|\n|   15.27|   2500.0|  60|    C|          RENT|   30000.0|           car|\n|   15.96|   2400.0|  36|    C|          RENT|   12252.0|small_business|\n|   13.49|  10000.0|  36|    C|          RENT|   49200.0|         other|\n|   12.69|   3000.0|  60|    B|          RENT|   80000.0|         other|\n+--------+---------+----+-----+--------------+----------+--------------+\n\n"
    }
   ],
   "source": "spark.sql(\"SELECT * FROM loanstats limit 5\").show()"
  },
  {
   "cell_type": "code",
   "execution_count": 12,
   "metadata": {},
   "outputs": [],
   "source": "loanstatsDF = spark.sql(\"SELECT * FROM loanstats\").toDF(*loanstats.columns)"
  },
  {
   "cell_type": "code",
   "execution_count": 33,
   "metadata": {},
   "outputs": [
    {
     "name": "stdout",
     "output_type": "stream",
     "text": "+-----+\n|grade|\n+-----+\n|    F|\n|    E|\n|    B|\n|    D|\n|    C|\n|    A|\n|    G|\n+-----+\n\n"
    }
   ],
   "source": "loanstatsDF.select(\"grade\").distinct().show()"
  },
  {
   "cell_type": "code",
   "execution_count": 34,
   "metadata": {},
   "outputs": [
    {
     "name": "stdout",
     "output_type": "stream",
     "text": "+----+\n|term|\n+----+\n|  60|\n|  36|\n+----+\n\n"
    }
   ],
   "source": "loanstatsDF.select(\"term\").distinct().show()"
  },
  {
   "cell_type": "code",
   "execution_count": 35,
   "metadata": {},
   "outputs": [
    {
     "name": "stdout",
     "output_type": "stream",
     "text": "+--------------+\n|home_ownership|\n+--------------+\n|           OWN|\n|          RENT|\n|      MORTGAGE|\n|         OTHER|\n|          NONE|\n+--------------+\n\n"
    }
   ],
   "source": "loanstatsDF.select(\"home_ownership\").distinct().show()"
  },
  {
   "cell_type": "code",
   "execution_count": 36,
   "metadata": {},
   "outputs": [
    {
     "name": "stdout",
     "output_type": "stream",
     "text": "+------------------+\n|           purpose|\n+------------------+\n|           wedding|\n|       educational|\n|             other|\n|    small_business|\n|debt_consolidation|\n|       credit_card|\n|            moving|\n|          vacation|\n|  renewable_energy|\n|             house|\n|               car|\n|    major_purchase|\n|           medical|\n|  home_improvement|\n+------------------+\n\n"
    }
   ],
   "source": "loanstatsDF.select(\"purpose\").distinct().show()"
  },
  {
   "cell_type": "code",
   "execution_count": 16,
   "metadata": {},
   "outputs": [
    {
     "name": "stdout",
     "output_type": "stream",
     "text": "+-------+------------------+------------------+------------------+-----+--------------+------------------+-------+\n|summary|          int_rate|         loan_amnt|              term|grade|home_ownership|        annual_inc|purpose|\n+-------+------------------+------------------+------------------+-----+--------------+------------------+-------+\n|  count|             39786|             39786|             39786|39786|         39786|             39786|  39786|\n|   mean|12.027873311150412|11231.360277484542|42.448499472176145| null|          null| 68979.06675526076|   null|\n| stddev|3.7274664801209787|  7464.54283214276| 10.63878220011493| null|          null|63762.634525903544|   null|\n|    min|              5.42|             500.0|                36|    A|      MORTGAGE|            4000.0|    car|\n|    25%|              9.25|            5500.0|                36| null|          null|           40452.0|   null|\n|    50%|             11.86|           10000.0|                36| null|          null|           59000.0|   null|\n|    75%|             14.59|           15000.0|                60| null|          null|           82305.0|   null|\n|    max|             24.59|           35000.0|                60|    G|          RENT|         6000000.0|wedding|\n+-------+------------------+------------------+------------------+-----+--------------+------------------+-------+\n\n"
    }
   ],
   "source": "loanstatsDF.summary().show()"
  },
  {
   "cell_type": "code",
   "execution_count": 73,
   "metadata": {},
   "outputs": [
    {
     "name": "stdout",
     "output_type": "stream",
     "text": "+--------+---------+----+-----+--------------+----------+--------------+-------+\n|int_rate|loan_amnt|term|grade|home_ownership|annual_inc|       purpose|grade_e|\n+--------+---------+----+-----+--------------+----------+--------------+-------+\n|   10.65|   5000.0|  36|    B|          RENT|   24000.0|   credit_card|    0.0|\n|   15.27|   2500.0|  60|    C|          RENT|   30000.0|           car|    2.0|\n|   15.96|   2400.0|  36|    C|          RENT|   12252.0|small_business|    2.0|\n+--------+---------+----+-----+--------------+----------+--------------+-------+\nonly showing top 3 rows\n\n"
    }
   ],
   "source": "strindex_g = StringIndexer(inputCol=\"grade\", outputCol=\"grade_e\")\nindexed_g = strindex_g.fit(loanstatsDF).transform(loanstatsDF)\nindexed_g.show(3)"
  },
  {
   "cell_type": "code",
   "execution_count": 74,
   "metadata": {},
   "outputs": [
    {
     "name": "stdout",
     "output_type": "stream",
     "text": "+--------+---------+----+-----+--------------+----------+--------------+-------+---------+\n|int_rate|loan_amnt|term|grade|home_ownership|annual_inc|       purpose|grade_e|purpose_e|\n+--------+---------+----+-----+--------------+----------+--------------+-------+---------+\n|   10.65|   5000.0|  36|    B|          RENT|   24000.0|   credit_card|    0.0|      1.0|\n|   15.27|   2500.0|  60|    C|          RENT|   30000.0|           car|    2.0|      6.0|\n|   15.96|   2400.0|  36|    C|          RENT|   12252.0|small_business|    2.0|      5.0|\n+--------+---------+----+-----+--------------+----------+--------------+-------+---------+\nonly showing top 3 rows\n\n"
    }
   ],
   "source": "strindex_gp = StringIndexer(inputCol=\"purpose\", outputCol=\"purpose_e\")\nindexed_gp = strindex_gp.fit(indexed_g).transform(indexed_g)\nindexed_gp.show(3)"
  },
  {
   "cell_type": "code",
   "execution_count": 75,
   "metadata": {},
   "outputs": [
    {
     "name": "stdout",
     "output_type": "stream",
     "text": "+--------+---------+----+-----+--------------+----------+--------------+-------+---------+----------------+\n|int_rate|loan_amnt|term|grade|home_ownership|annual_inc|       purpose|grade_e|purpose_e|home_ownership_e|\n+--------+---------+----+-----+--------------+----------+--------------+-------+---------+----------------+\n|   10.65|   5000.0|  36|    B|          RENT|   24000.0|   credit_card|    0.0|      1.0|             0.0|\n|   15.27|   2500.0|  60|    C|          RENT|   30000.0|           car|    2.0|      6.0|             0.0|\n|   15.96|   2400.0|  36|    C|          RENT|   12252.0|small_business|    2.0|      5.0|             0.0|\n+--------+---------+----+-----+--------------+----------+--------------+-------+---------+----------------+\nonly showing top 3 rows\n\n"
    }
   ],
   "source": "strindex_gph = StringIndexer(inputCol=\"home_ownership\", outputCol=\"home_ownership_e\")\nindexed_gph = strindex_gph.fit(indexed_gp).transform(indexed_gp)\nindexed_gph.show(3)"
  },
  {
   "cell_type": "code",
   "execution_count": 76,
   "metadata": {},
   "outputs": [],
   "source": "indexed_gph = indexed_gph.drop(*['grade', 'home_ownership', 'purpose'])"
  },
  {
   "cell_type": "code",
   "execution_count": 77,
   "metadata": {},
   "outputs": [
    {
     "name": "stdout",
     "output_type": "stream",
     "text": "+--------+---------+----+----------+-------+---------+----------------+\n|int_rate|loan_amnt|term|annual_inc|grade_e|purpose_e|home_ownership_e|\n+--------+---------+----+----------+-------+---------+----------------+\n|   10.65|   5000.0|  36|   24000.0|    0.0|      1.0|             0.0|\n|   15.27|   2500.0|  60|   30000.0|    2.0|      6.0|             0.0|\n|   15.96|   2400.0|  36|   12252.0|    2.0|      5.0|             0.0|\n+--------+---------+----+----------+-------+---------+----------------+\nonly showing top 3 rows\n\n"
    }
   ],
   "source": "indexed_gph.show(3)"
  },
  {
   "cell_type": "code",
   "execution_count": 78,
   "metadata": {},
   "outputs": [],
   "source": "encoder = OneHotEncoderEstimator(inputCols=[\"term\"], outputCols=[\"term_e\"])"
  },
  {
   "cell_type": "code",
   "execution_count": 79,
   "metadata": {},
   "outputs": [],
   "source": "model_term_egph = encoder.fit(indexed_gph)"
  },
  {
   "cell_type": "code",
   "execution_count": 80,
   "metadata": {},
   "outputs": [],
   "source": "encoded_term_egph = model_term_egph.transform(indexed_gph)"
  },
  {
   "cell_type": "code",
   "execution_count": 81,
   "metadata": {},
   "outputs": [
    {
     "name": "stdout",
     "output_type": "stream",
     "text": "+--------+---------+----+----------+-------+---------+----------------+---------------+\n|int_rate|loan_amnt|term|annual_inc|grade_e|purpose_e|home_ownership_e|         term_e|\n+--------+---------+----+----------+-------+---------+----------------+---------------+\n|   10.65|   5000.0|  36|   24000.0|    0.0|      1.0|             0.0|(60,[36],[1.0])|\n|   15.27|   2500.0|  60|   30000.0|    2.0|      6.0|             0.0|     (60,[],[])|\n|   15.96|   2400.0|  36|   12252.0|    2.0|      5.0|             0.0|(60,[36],[1.0])|\n+--------+---------+----+----------+-------+---------+----------------+---------------+\nonly showing top 3 rows\n\n"
    }
   ],
   "source": "encoded_term_egph.show(3)"
  },
  {
   "cell_type": "code",
   "execution_count": 82,
   "metadata": {},
   "outputs": [],
   "source": "encoded_term_egph = encoded_term_egph.drop(*['term'])"
  },
  {
   "cell_type": "code",
   "execution_count": 84,
   "metadata": {},
   "outputs": [
    {
     "name": "stdout",
     "output_type": "stream",
     "text": "+---------------+\n|         term_e|\n+---------------+\n|     (60,[],[])|\n|(60,[36],[1.0])|\n+---------------+\n\n"
    }
   ],
   "source": "encoded_term_egph.select(\"term_e\").distinct().show()"
  },
  {
   "cell_type": "code",
   "execution_count": 88,
   "metadata": {},
   "outputs": [
    {
     "name": "stdout",
     "output_type": "stream",
     "text": "+--------------------+--------+\n|            features|int_rate|\n+--------------------+--------+\n|(65,[0,37,61,63],...|   10.65|\n|(65,[0,61,62,63],...|   15.27|\n|(65,[0,37,61,62,6...|   15.96|\n+--------------------+--------+\nonly showing top 3 rows\n\n"
    }
   ],
   "source": "vectorassembler = VectorAssembler(inputCols=['loan_amnt', 'term_e', 'annual_inc', 'grade_e', \n                                             'purpose_e', 'home_ownership_e'], outputCol='features')\nvdf = vectorassembler.transform(encoded_term_egph)\nvdf = vdf.select(['features', 'int_rate'])\nvdf.show(3)"
  },
  {
   "cell_type": "code",
   "execution_count": 89,
   "metadata": {},
   "outputs": [],
   "source": "splitted_df = vdf.randomSplit([0.8, 0.2])\ntrain_df = splitted_df[0]\ntest_df = splitted_df[1]"
  },
  {
   "cell_type": "code",
   "execution_count": 91,
   "metadata": {},
   "outputs": [],
   "source": "lr = LinearRegression(featuresCol='features', labelCol='int_rate', \n                      maxIter=10, regParam=0.3, elasticNetParam=0.8)\nlr_model = lr.fit(train_df)"
  },
  {
   "cell_type": "code",
   "execution_count": 92,
   "metadata": {},
   "outputs": [
    {
     "data": {
      "text/plain": "'[2.7843813388846156e-05,0.0,0.0,0.0,0.0,0.0,0.0,0.0,0.0,0.0,0.0,0.0,0.0,0.0,0.0,0.0,0.0,0.0,0.0,0.0,0.0,0.0,0.0,0.0,0.0,0.0,0.0,0.0,0.0,0.0,0.0,0.0,0.0,0.0,0.0,0.0,0.0,-1.2637466395540053,0.0,0.0,0.0,0.0,0.0,0.0,0.0,0.0,0.0,0.0,0.0,0.0,0.0,0.0,0.0,0.0,0.0,0.0,0.0,0.0,0.0,0.0,0.0,0.0,1.61277984466895,0.0,0.0]'"
     },
     "execution_count": 92,
     "metadata": {},
     "output_type": "execute_result"
    }
   ],
   "source": "str(lr_model.coefficients)"
  },
  {
   "cell_type": "code",
   "execution_count": 93,
   "metadata": {},
   "outputs": [
    {
     "data": {
      "text/plain": "'10.1670061083'"
     },
     "execution_count": 93,
     "metadata": {},
     "output_type": "execute_result"
    }
   ],
   "source": "str(lr_model.intercept)"
  },
  {
   "cell_type": "code",
   "execution_count": 94,
   "metadata": {},
   "outputs": [],
   "source": "modelSummary = lr_model.summary"
  },
  {
   "cell_type": "code",
   "execution_count": 96,
   "metadata": {},
   "outputs": [
    {
     "data": {
      "text/plain": "2.3220793485296007"
     },
     "execution_count": 96,
     "metadata": {},
     "output_type": "execute_result"
    }
   ],
   "source": "modelSummary.rootMeanSquaredError"
  },
  {
   "cell_type": "code",
   "execution_count": 97,
   "metadata": {},
   "outputs": [
    {
     "data": {
      "text/plain": "0.6111432575852145"
     },
     "execution_count": 97,
     "metadata": {},
     "output_type": "execute_result"
    }
   ],
   "source": "modelSummary.r2"
  },
  {
   "cell_type": "code",
   "execution_count": 100,
   "metadata": {},
   "outputs": [],
   "source": "residuals = modelSummary.residuals.toPandas()"
  },
  {
   "cell_type": "code",
   "execution_count": 102,
   "metadata": {},
   "outputs": [
    {
     "data": {
      "text/plain": "<matplotlib.axes._subplots.AxesSubplot at 0x7f6b24b5e2d0>"
     },
     "execution_count": 102,
     "metadata": {},
     "output_type": "execute_result"
    },
    {
     "data": {
      "image/png": "[encoded data removed]",
      "text/plain": "<Figure size 432x288 with 1 Axes>"
     },
     "metadata": {
      "needs_background": "light"
     },
     "output_type": "display_data"
    }
   ],
   "source": "sns.distplot(residuals)"
  }
 ],
 "metadata": {
  "kernelspec": {
   "display_name": "Python 2",
   "language": "python",
   "name": "python2"
  },
  "language_info": {
   "codemirror_mode": {
    "name": "ipython",
    "version": 2
   },
   "file_extension": ".py",
   "mimetype": "text/x-python",
   "name": "python",
   "nbconvert_exporter": "python",
   "pygments_lexer": "ipython2",
   "version": "2.7.17"
  }
 },
 "nbformat": 4,
 "nbformat_minor": 4
}
